{
 "cells": [
  {
   "cell_type": "markdown",
   "metadata": {},
   "source": [
    "## Импорты"
   ]
  },
  {
   "cell_type": "code",
   "execution_count": 1,
   "metadata": {
    "ExecuteTime": {
     "end_time": "2023-11-08T12:44:21.117760Z",
     "start_time": "2023-11-08T12:44:20.318322Z"
    }
   },
   "outputs": [],
   "source": [
    "import pandas as pd\n",
    "import matplotlib.pyplot as plt\n",
    "import seaborn as sns\n",
    "import numpy as np\n",
    "from datetime import date\n",
    "%matplotlib inline"
   ]
  },
  {
   "cell_type": "markdown",
   "metadata": {},
   "source": [
    "## Загрузка данных"
   ]
  },
  {
   "cell_type": "markdown",
   "metadata": {},
   "source": [
    "### Игры"
   ]
  },
  {
   "cell_type": "code",
   "execution_count": 2,
   "metadata": {
    "ExecuteTime": {
     "end_time": "2023-11-08T12:44:21.136854Z",
     "start_time": "2023-11-08T12:44:21.119713Z"
    }
   },
   "outputs": [
    {
     "data": {
      "text/html": [
       "<div>\n",
       "<style scoped>\n",
       "    .dataframe tbody tr th:only-of-type {\n",
       "        vertical-align: middle;\n",
       "    }\n",
       "\n",
       "    .dataframe tbody tr th {\n",
       "        vertical-align: top;\n",
       "    }\n",
       "\n",
       "    .dataframe thead th {\n",
       "        text-align: right;\n",
       "    }\n",
       "</style>\n",
       "<table border=\"1\" class=\"dataframe\">\n",
       "  <thead>\n",
       "    <tr style=\"text-align: right;\">\n",
       "      <th></th>\n",
       "      <th>name</th>\n",
       "      <th>number</th>\n",
       "      <th>game_id</th>\n",
       "      <th>place</th>\n",
       "      <th>date</th>\n",
       "    </tr>\n",
       "  </thead>\n",
       "  <tbody>\n",
       "    <tr>\n",
       "      <th>0</th>\n",
       "      <td>[music party]</td>\n",
       "      <td>#9</td>\n",
       "      <td>65996</td>\n",
       "      <td>Old School Pub</td>\n",
       "      <td>1 ноября, Среда</td>\n",
       "    </tr>\n",
       "    <tr>\n",
       "      <th>1</th>\n",
       "      <td>[мультики]</td>\n",
       "      <td>#8</td>\n",
       "      <td>65997</td>\n",
       "      <td>Papa' S Bar &amp; Grill</td>\n",
       "      <td>1 ноября, Среда</td>\n",
       "    </tr>\n",
       "    <tr>\n",
       "      <th>2</th>\n",
       "      <td>[новички]</td>\n",
       "      <td>#899</td>\n",
       "      <td>65984</td>\n",
       "      <td>Резиденция</td>\n",
       "      <td>1 ноября, Среда</td>\n",
       "    </tr>\n",
       "    <tr>\n",
       "      <th>3</th>\n",
       "      <td>Квиз, плиз!</td>\n",
       "      <td>#899</td>\n",
       "      <td>65994</td>\n",
       "      <td>Chesterfield Bar</td>\n",
       "      <td>1 ноября, Среда</td>\n",
       "    </tr>\n",
       "    <tr>\n",
       "      <th>4</th>\n",
       "      <td>[HALLOWEEN]</td>\n",
       "      <td>#3</td>\n",
       "      <td>65986</td>\n",
       "      <td>Резиденция</td>\n",
       "      <td>31 октября, Вторник</td>\n",
       "    </tr>\n",
       "  </tbody>\n",
       "</table>\n",
       "</div>"
      ],
      "text/plain": [
       "             name number  game_id                place                 date\n",
       "0  [music party]      #9    65996       Old School Pub      1 ноября, Среда\n",
       "1     [мультики]      #8    65997  Papa' S Bar & Grill      1 ноября, Среда\n",
       "2      [новички]    #899    65984           Резиденция      1 ноября, Среда\n",
       "3    Квиз, плиз!    #899    65994     Chesterfield Bar      1 ноября, Среда\n",
       "4    [HALLOWEEN]      #3    65986           Резиденция  31 октября, Вторник"
      ]
     },
     "execution_count": 2,
     "metadata": {},
     "output_type": "execute_result"
    }
   ],
   "source": [
    "raw_df = pd.read_csv('./raw_games.csv')\n",
    "raw_df.head()"
   ]
  },
  {
   "cell_type": "markdown",
   "metadata": {},
   "source": [
    "### Команды"
   ]
  },
  {
   "cell_type": "code",
   "execution_count": 3,
   "metadata": {
    "ExecuteTime": {
     "end_time": "2023-11-08T12:44:22.590007Z",
     "start_time": "2023-11-08T12:44:22.353731Z"
    }
   },
   "outputs": [
    {
     "name": "stdout",
     "output_type": "stream",
     "text": [
      "(58369, 53)\n"
     ]
    },
    {
     "name": "stderr",
     "output_type": "stream",
     "text": [
      "/home/ilya/anaconda3/lib/python3.7/site-packages/IPython/core/interactiveshell.py:3331: DtypeWarning: Columns (5,9,19,29,30,32,33,34,43,46,52) have mixed types.Specify dtype option on import or set low_memory=False.\n",
      "  exec(code_obj, self.user_global_ns, self.user_ns)\n"
     ]
    },
    {
     "data": {
      "text/html": [
       "<div>\n",
       "<style scoped>\n",
       "    .dataframe tbody tr th:only-of-type {\n",
       "        vertical-align: middle;\n",
       "    }\n",
       "\n",
       "    .dataframe tbody tr th {\n",
       "        vertical-align: top;\n",
       "    }\n",
       "\n",
       "    .dataframe thead th {\n",
       "        text-align: right;\n",
       "    }\n",
       "</style>\n",
       "<table border=\"1\" class=\"dataframe\">\n",
       "  <thead>\n",
       "    <tr style=\"text-align: right;\">\n",
       "      <th></th>\n",
       "      <th>Место</th>\n",
       "      <th>Ранг</th>\n",
       "      <th>Оскар</th>\n",
       "      <th>Название команды</th>\n",
       "      <th>Итого</th>\n",
       "      <th>1 раунд</th>\n",
       "      <th>2 раунд</th>\n",
       "      <th>3 раунд</th>\n",
       "      <th>4 раунд</th>\n",
       "      <th>5 раунд</th>\n",
       "      <th>...</th>\n",
       "      <th>Команда</th>\n",
       "      <th>9 раунд</th>\n",
       "      <th>Unnamed: 12</th>\n",
       "      <th>итог</th>\n",
       "      <th>ОСКАР</th>\n",
       "      <th>ИТОГО</th>\n",
       "      <th>ранг</th>\n",
       "      <th>оскар</th>\n",
       "      <th>Unnamed: 0</th>\n",
       "      <th>Название</th>\n",
       "    </tr>\n",
       "  </thead>\n",
       "  <tbody>\n",
       "    <tr>\n",
       "      <th>0</th>\n",
       "      <td>1.0</td>\n",
       "      <td>NaN</td>\n",
       "      <td>NaN</td>\n",
       "      <td>Пивозавры</td>\n",
       "      <td>86.0</td>\n",
       "      <td>10.0</td>\n",
       "      <td>8.0</td>\n",
       "      <td>7.0</td>\n",
       "      <td>10.0</td>\n",
       "      <td>17.0</td>\n",
       "      <td>...</td>\n",
       "      <td>NaN</td>\n",
       "      <td>NaN</td>\n",
       "      <td>NaN</td>\n",
       "      <td>NaN</td>\n",
       "      <td>NaN</td>\n",
       "      <td>NaN</td>\n",
       "      <td>NaN</td>\n",
       "      <td>NaN</td>\n",
       "      <td>NaN</td>\n",
       "      <td>NaN</td>\n",
       "    </tr>\n",
       "    <tr>\n",
       "      <th>1</th>\n",
       "      <td>2.0</td>\n",
       "      <td>NaN</td>\n",
       "      <td>NaN</td>\n",
       "      <td>Bulle Mia</td>\n",
       "      <td>82.0</td>\n",
       "      <td>10.0</td>\n",
       "      <td>10.0</td>\n",
       "      <td>9.0</td>\n",
       "      <td>10.0</td>\n",
       "      <td>12.0</td>\n",
       "      <td>...</td>\n",
       "      <td>NaN</td>\n",
       "      <td>NaN</td>\n",
       "      <td>NaN</td>\n",
       "      <td>NaN</td>\n",
       "      <td>NaN</td>\n",
       "      <td>NaN</td>\n",
       "      <td>NaN</td>\n",
       "      <td>NaN</td>\n",
       "      <td>NaN</td>\n",
       "      <td>NaN</td>\n",
       "    </tr>\n",
       "    <tr>\n",
       "      <th>2</th>\n",
       "      <td>3.0</td>\n",
       "      <td>NaN</td>\n",
       "      <td>NaN</td>\n",
       "      <td>Кевин СПейсами</td>\n",
       "      <td>80.0</td>\n",
       "      <td>10.0</td>\n",
       "      <td>10.0</td>\n",
       "      <td>8.0</td>\n",
       "      <td>8.0</td>\n",
       "      <td>12.0</td>\n",
       "      <td>...</td>\n",
       "      <td>NaN</td>\n",
       "      <td>NaN</td>\n",
       "      <td>NaN</td>\n",
       "      <td>NaN</td>\n",
       "      <td>NaN</td>\n",
       "      <td>NaN</td>\n",
       "      <td>NaN</td>\n",
       "      <td>NaN</td>\n",
       "      <td>NaN</td>\n",
       "      <td>NaN</td>\n",
       "    </tr>\n",
       "    <tr>\n",
       "      <th>3</th>\n",
       "      <td>4.0</td>\n",
       "      <td>NaN</td>\n",
       "      <td>NaN</td>\n",
       "      <td>ОПГ \"Чёрное поле\"</td>\n",
       "      <td>73.0</td>\n",
       "      <td>10.0</td>\n",
       "      <td>5.0</td>\n",
       "      <td>7.0</td>\n",
       "      <td>8.0</td>\n",
       "      <td>10.0</td>\n",
       "      <td>...</td>\n",
       "      <td>NaN</td>\n",
       "      <td>NaN</td>\n",
       "      <td>NaN</td>\n",
       "      <td>NaN</td>\n",
       "      <td>NaN</td>\n",
       "      <td>NaN</td>\n",
       "      <td>NaN</td>\n",
       "      <td>NaN</td>\n",
       "      <td>NaN</td>\n",
       "      <td>NaN</td>\n",
       "    </tr>\n",
       "    <tr>\n",
       "      <th>4</th>\n",
       "      <td>5.0</td>\n",
       "      <td>NaN</td>\n",
       "      <td>NaN</td>\n",
       "      <td>Розовый вхламинго</td>\n",
       "      <td>67.0</td>\n",
       "      <td>9.0</td>\n",
       "      <td>8.0</td>\n",
       "      <td>8.0</td>\n",
       "      <td>8.0</td>\n",
       "      <td>9.0</td>\n",
       "      <td>...</td>\n",
       "      <td>NaN</td>\n",
       "      <td>NaN</td>\n",
       "      <td>NaN</td>\n",
       "      <td>NaN</td>\n",
       "      <td>NaN</td>\n",
       "      <td>NaN</td>\n",
       "      <td>NaN</td>\n",
       "      <td>NaN</td>\n",
       "      <td>NaN</td>\n",
       "      <td>NaN</td>\n",
       "    </tr>\n",
       "  </tbody>\n",
       "</table>\n",
       "<p>5 rows × 53 columns</p>\n",
       "</div>"
      ],
      "text/plain": [
       "   Место  Ранг  Оскар   Название команды  Итого 1 раунд  2 раунд  3 раунд  \\\n",
       "0    1.0   NaN    NaN          Пивозавры   86.0    10.0      8.0      7.0   \n",
       "1    2.0   NaN    NaN          Bulle Mia   82.0    10.0     10.0      9.0   \n",
       "2    3.0   NaN    NaN     Кевин СПейсами   80.0    10.0     10.0      8.0   \n",
       "3    4.0   NaN    NaN  ОПГ \"Чёрное поле\"   73.0    10.0      5.0      7.0   \n",
       "4    5.0   NaN    NaN  Розовый вхламинго   67.0     9.0      8.0      8.0   \n",
       "\n",
       "   4 раунд 5 раунд  ...  Команда  9 раунд  Unnamed: 12  итог  ОСКАР ИТОГО  \\\n",
       "0     10.0    17.0  ...      NaN      NaN          NaN   NaN    NaN   NaN   \n",
       "1     10.0    12.0  ...      NaN      NaN          NaN   NaN    NaN   NaN   \n",
       "2      8.0    12.0  ...      NaN      NaN          NaN   NaN    NaN   NaN   \n",
       "3      8.0    10.0  ...      NaN      NaN          NaN   NaN    NaN   NaN   \n",
       "4      8.0     9.0  ...      NaN      NaN          NaN   NaN    NaN   NaN   \n",
       "\n",
       "   ранг  оскар  Unnamed: 0 Название  \n",
       "0   NaN    NaN         NaN      NaN  \n",
       "1   NaN    NaN         NaN      NaN  \n",
       "2   NaN    NaN         NaN      NaN  \n",
       "3   NaN    NaN         NaN      NaN  \n",
       "4   NaN    NaN         NaN      NaN  \n",
       "\n",
       "[5 rows x 53 columns]"
      ]
     },
     "execution_count": 3,
     "metadata": {},
     "output_type": "execute_result"
    }
   ],
   "source": [
    "games_df = pd.read_csv('./games.csv')\n",
    "print(games_df.shape)\n",
    "games_df.head()"
   ]
  },
  {
   "cell_type": "markdown",
   "metadata": {},
   "source": [
    "## Препроцессинг"
   ]
  },
  {
   "cell_type": "code",
   "execution_count": 4,
   "metadata": {
    "ExecuteTime": {
     "end_time": "2023-11-08T12:44:24.820092Z",
     "start_time": "2023-11-08T12:44:24.631206Z"
    }
   },
   "outputs": [],
   "source": [
    "games_df = games_df.merge(raw_df, on='game_id')"
   ]
  },
  {
   "cell_type": "markdown",
   "metadata": {
    "ExecuteTime": {
     "end_time": "2023-11-08T12:44:13.587601Z",
     "start_time": "2023-11-08T12:44:13.575807Z"
    }
   },
   "source": [
    "Уберем тематические квизы, оставим только классические игры, извлечем дату, объединим столбцы с разными именами"
   ]
  },
  {
   "cell_type": "code",
   "execution_count": 5,
   "metadata": {
    "ExecuteTime": {
     "end_time": "2023-11-08T12:44:35.734467Z",
     "start_time": "2023-11-08T12:44:35.551873Z"
    }
   },
   "outputs": [],
   "source": [
    "games_df = games_df[(games_df['name'] == 'Квиз, плиз! ')]\n",
    "games_df = games_df.drop(games_df.isnull().mean(axis=0).loc[lambda x: x > 0.99].index, axis=1)\n",
    "games_df['Итого'] = games_df['Итого'].fillna(games_df['итого'])\n",
    "games_df['number'] = games_df['number'].str.replace('#', '').astype(int)\n",
    "games_df['День недели'] = games_df['date'].str.split(', ').str[-1].str.strip()"
   ]
  },
  {
   "cell_type": "code",
   "execution_count": 6,
   "metadata": {
    "ExecuteTime": {
     "end_time": "2023-11-08T12:44:38.313031Z",
     "start_time": "2023-11-08T12:44:38.267322Z"
    }
   },
   "outputs": [],
   "source": [
    "month_dict = {\n",
    "    'января': 1,\n",
    "    'февраля': 2,\n",
    "    'марта': 3,\n",
    "    'апреля': 4,\n",
    "    'мая': 5,\n",
    "    'июня': 6,\n",
    "    'июля': 7,\n",
    "    'августа': 8,\n",
    "    'сентября': 9,\n",
    "    'октября': 10,\n",
    "    'ноября': 11,\n",
    "    'декабря': 12\n",
    "}\n",
    "def process_date(x):\n",
    "    dt, day_of_week = x.split(', ')\n",
    "    day, month = dt.split()\n",
    "    month_num = month_dict[month]\n",
    "    return date(day=int(day), month=month_num, year=2023)\n",
    "\n",
    "games_df['dt'] = games_df['date'].map(process_date)"
   ]
  },
  {
   "cell_type": "markdown",
   "metadata": {},
   "source": [
    "## Анализ"
   ]
  },
  {
   "cell_type": "markdown",
   "metadata": {},
   "source": [
    "В каких барах сложнее всего занимать призовые места?"
   ]
  },
  {
   "cell_type": "code",
   "execution_count": 7,
   "metadata": {
    "ExecuteTime": {
     "end_time": "2023-11-08T12:44:42.420358Z",
     "start_time": "2023-11-08T12:44:42.395318Z"
    },
    "scrolled": false
   },
   "outputs": [
    {
     "data": {
      "text/plain": [
       "place\n",
       "Chesterfield Bar        52.374486\n",
       "Известия Hall           52.214286\n",
       "Резиденция              51.048387\n",
       "CLUB LIBERTY BAR        51.027778\n",
       "Дорогая, я перезвоню    49.424242\n",
       "LUDI                    48.000000\n",
       "Papa' S Bar & Grill     47.950000\n",
       "Old School Pub          46.000000\n",
       "Bla Bla Bar             45.666667\n",
       "МИР                     42.500000\n",
       "Name: Итого, dtype: float64"
      ]
     },
     "execution_count": 7,
     "metadata": {},
     "output_type": "execute_result"
    }
   ],
   "source": [
    "games_df[games_df['Место'] == 1].groupby('place').filter(lambda x: x.size > 20).groupby('place')['Итого'].mean().sort_values(ascending=False)"
   ]
  },
  {
   "cell_type": "code",
   "execution_count": 34,
   "metadata": {
    "ExecuteTime": {
     "end_time": "2023-11-08T12:11:27.331249Z",
     "start_time": "2023-11-08T12:11:27.315098Z"
    }
   },
   "outputs": [
    {
     "data": {
      "text/html": [
       "<div>\n",
       "<style scoped>\n",
       "    .dataframe tbody tr th:only-of-type {\n",
       "        vertical-align: middle;\n",
       "    }\n",
       "\n",
       "    .dataframe tbody tr th {\n",
       "        vertical-align: top;\n",
       "    }\n",
       "\n",
       "    .dataframe thead th {\n",
       "        text-align: right;\n",
       "    }\n",
       "</style>\n",
       "<table border=\"1\" class=\"dataframe\">\n",
       "  <thead>\n",
       "    <tr style=\"text-align: right;\">\n",
       "      <th></th>\n",
       "      <th>mean</th>\n",
       "      <th>size</th>\n",
       "    </tr>\n",
       "    <tr>\n",
       "      <th>place</th>\n",
       "      <th></th>\n",
       "      <th></th>\n",
       "    </tr>\n",
       "  </thead>\n",
       "  <tbody>\n",
       "    <tr>\n",
       "      <th>Chesterfield Bar</th>\n",
       "      <td>52.374486</td>\n",
       "      <td>243</td>\n",
       "    </tr>\n",
       "    <tr>\n",
       "      <th>Резиденция</th>\n",
       "      <td>51.048387</td>\n",
       "      <td>124</td>\n",
       "    </tr>\n",
       "    <tr>\n",
       "      <th>CLUB LIBERTY BAR</th>\n",
       "      <td>51.027778</td>\n",
       "      <td>36</td>\n",
       "    </tr>\n",
       "    <tr>\n",
       "      <th>Дорогая, я перезвоню</th>\n",
       "      <td>49.424242</td>\n",
       "      <td>33</td>\n",
       "    </tr>\n",
       "    <tr>\n",
       "      <th>Papa' S Bar &amp; Grill</th>\n",
       "      <td>47.950000</td>\n",
       "      <td>20</td>\n",
       "    </tr>\n",
       "  </tbody>\n",
       "</table>\n",
       "</div>"
      ],
      "text/plain": [
       "                           mean  size\n",
       "place                                \n",
       "Chesterfield Bar      52.374486   243\n",
       "Резиденция            51.048387   124\n",
       "CLUB LIBERTY BAR      51.027778    36\n",
       "Дорогая, я перезвоню  49.424242    33\n",
       "Papa' S Bar & Grill   47.950000    20"
      ]
     },
     "execution_count": 34,
     "metadata": {},
     "output_type": "execute_result"
    }
   ],
   "source": [
    "games_df[games_df['Место'] == 1].groupby('place').filter(lambda x: x.shape[0] >= 20).groupby('place')['Итого'].agg(['mean', 'size']).sort_values('mean', ascending=False)"
   ]
  },
  {
   "cell_type": "markdown",
   "metadata": {},
   "source": [
    "Читеры"
   ]
  },
  {
   "cell_type": "code",
   "execution_count": 8,
   "metadata": {
    "ExecuteTime": {
     "end_time": "2023-11-08T12:45:03.502017Z",
     "start_time": "2023-11-08T12:45:03.478828Z"
    }
   },
   "outputs": [
    {
     "data": {
      "text/html": [
       "<div>\n",
       "<style scoped>\n",
       "    .dataframe tbody tr th:only-of-type {\n",
       "        vertical-align: middle;\n",
       "    }\n",
       "\n",
       "    .dataframe tbody tr th {\n",
       "        vertical-align: top;\n",
       "    }\n",
       "\n",
       "    .dataframe thead th {\n",
       "        text-align: right;\n",
       "    }\n",
       "</style>\n",
       "<table border=\"1\" class=\"dataframe\">\n",
       "  <thead>\n",
       "    <tr style=\"text-align: right;\">\n",
       "      <th></th>\n",
       "      <th>Место</th>\n",
       "      <th>Название команды</th>\n",
       "      <th>Итого</th>\n",
       "      <th>1 раунд</th>\n",
       "      <th>2 раунд</th>\n",
       "      <th>3 раунд</th>\n",
       "      <th>4 раунд</th>\n",
       "      <th>5 раунд</th>\n",
       "      <th>6 раунд</th>\n",
       "      <th>7 раунд</th>\n",
       "      <th>game_id</th>\n",
       "      <th>итого</th>\n",
       "      <th>name</th>\n",
       "      <th>number</th>\n",
       "      <th>place</th>\n",
       "      <th>date</th>\n",
       "      <th>День недели</th>\n",
       "      <th>dt</th>\n",
       "    </tr>\n",
       "  </thead>\n",
       "  <tbody>\n",
       "    <tr>\n",
       "      <th>24292</th>\n",
       "      <td>1.0</td>\n",
       "      <td>Алиса, миелофон у меня!</td>\n",
       "      <td>60.0</td>\n",
       "      <td>6</td>\n",
       "      <td>6.0</td>\n",
       "      <td>6.0</td>\n",
       "      <td>12.0</td>\n",
       "      <td>6.0</td>\n",
       "      <td>6.0</td>\n",
       "      <td>18.0</td>\n",
       "      <td>58871</td>\n",
       "      <td>60.0</td>\n",
       "      <td>Квиз, плиз!</td>\n",
       "      <td>844</td>\n",
       "      <td>Chesterfield Bar</td>\n",
       "      <td>24 июня, Суббота</td>\n",
       "      <td>Суббота</td>\n",
       "      <td>2023-06-24</td>\n",
       "    </tr>\n",
       "    <tr>\n",
       "      <th>43747</th>\n",
       "      <td>1.0</td>\n",
       "      <td>Мы-ей, а нам-она</td>\n",
       "      <td>60.0</td>\n",
       "      <td>6.0</td>\n",
       "      <td>6.0</td>\n",
       "      <td>6.0</td>\n",
       "      <td>12.0</td>\n",
       "      <td>6.0</td>\n",
       "      <td>6.0</td>\n",
       "      <td>18.0</td>\n",
       "      <td>53590</td>\n",
       "      <td>60.0</td>\n",
       "      <td>Квиз, плиз!</td>\n",
       "      <td>801</td>\n",
       "      <td>CLUB LIBERTY BAR</td>\n",
       "      <td>17 марта, Пятница</td>\n",
       "      <td>Пятница</td>\n",
       "      <td>2023-03-17</td>\n",
       "    </tr>\n",
       "  </tbody>\n",
       "</table>\n",
       "</div>"
      ],
      "text/plain": [
       "       Место         Название команды  Итого 1 раунд  2 раунд  3 раунд  \\\n",
       "24292    1.0  Алиса, миелофон у меня!   60.0       6      6.0      6.0   \n",
       "43747    1.0         Мы-ей, а нам-она   60.0     6.0      6.0      6.0   \n",
       "\n",
       "       4 раунд 5 раунд  6 раунд  7 раунд  game_id  итого          name  \\\n",
       "24292     12.0     6.0      6.0     18.0    58871   60.0  Квиз, плиз!    \n",
       "43747     12.0     6.0      6.0     18.0    53590   60.0  Квиз, плиз!    \n",
       "\n",
       "       number             place               date День недели          dt  \n",
       "24292     844  Chesterfield Bar   24 июня, Суббота     Суббота  2023-06-24  \n",
       "43747     801  CLUB LIBERTY BAR  17 марта, Пятница     Пятница  2023-03-17  "
      ]
     },
     "execution_count": 8,
     "metadata": {},
     "output_type": "execute_result"
    }
   ],
   "source": [
    "games_df[games_df['Итого'] == 60]"
   ]
  },
  {
   "cell_type": "markdown",
   "metadata": {},
   "source": [
    "Сложность раундов - сколько баллов набирали топ-30 команд квиза в разрезе пакета вопросов"
   ]
  },
  {
   "cell_type": "code",
   "execution_count": 9,
   "metadata": {
    "ExecuteTime": {
     "end_time": "2023-11-08T12:45:53.271599Z",
     "start_time": "2023-11-08T12:45:52.026939Z"
    }
   },
   "outputs": [
    {
     "data": {
      "image/png": "[encoded data removed]",
      "text/plain": [
       "<Figure size 3600x432 with 1 Axes>"
      ]
     },
     "metadata": {
      "needs_background": "light"
     },
     "output_type": "display_data"
    }
   ],
   "source": [
    "fig, ax = plt.subplots(figsize=(50, 6))\n",
    "top_teams = games_df['Название команды'].value_counts().head(20).index\n",
    "data = games_df[games_df['Название команды'].isin(top_teams)].groupby('number').filter(lambda x: x.shape[0] >= 10).groupby('number')['Итого'].mean().to_frame('avg_score').reset_index()\n",
    "sns.barplot(data=data, x='number', y='avg_score', ax=ax)\n",
    "plt.title('avg score, best 20 teams')\n",
    "plt.grid();"
   ]
  },
  {
   "cell_type": "code",
   "execution_count": 12,
   "metadata": {
    "ExecuteTime": {
     "end_time": "2023-11-08T12:46:19.727914Z",
     "start_time": "2023-11-08T12:46:19.716433Z"
    }
   },
   "outputs": [
    {
     "data": {
      "text/plain": [
       "count    111.000000\n",
       "mean      44.284859\n",
       "std        3.739127\n",
       "min       32.000000\n",
       "25%       42.075000\n",
       "50%       44.642857\n",
       "75%       46.881410\n",
       "max       53.866667\n",
       "Name: avg_score, dtype: float64"
      ]
     },
     "execution_count": 12,
     "metadata": {},
     "output_type": "execute_result"
    }
   ],
   "source": [
    "data.set_index('number')['avg_score'].describe()"
   ]
  },
  {
   "cell_type": "code",
   "execution_count": 17,
   "metadata": {
    "ExecuteTime": {
     "end_time": "2023-11-08T12:47:24.606294Z",
     "start_time": "2023-11-08T12:47:24.466545Z"
    }
   },
   "outputs": [
    {
     "data": {
      "text/plain": [
       "<matplotlib.axes._subplots.AxesSubplot at 0x7fdf022920d0>"
      ]
     },
     "execution_count": 17,
     "metadata": {},
     "output_type": "execute_result"
    },
    {
     "data": {
      "image/png": "[encoded data removed]",
      "text/plain": [
       "<Figure size 432x288 with 1 Axes>"
      ]
     },
     "metadata": {
      "needs_background": "light"
     },
     "output_type": "display_data"
    }
   ],
   "source": [
    "data['avg_score'].rolling(window=9, center=True).mean().plot.line()"
   ]
  },
  {
   "cell_type": "markdown",
   "metadata": {},
   "source": [
    "### Петушиная статистика"
   ]
  },
  {
   "cell_type": "code",
   "execution_count": 18,
   "metadata": {
    "ExecuteTime": {
     "end_time": "2023-11-08T12:47:54.852683Z",
     "start_time": "2023-11-08T12:47:54.651946Z"
    }
   },
   "outputs": [
    {
     "data": {
      "image/png": "[encoded data removed]",
      "text/plain": [
       "<Figure size 720x432 with 1 Axes>"
      ]
     },
     "metadata": {
      "needs_background": "light"
     },
     "output_type": "display_data"
    }
   ],
   "source": [
    "fig, ax = plt.subplots(figsize=(10,6))\n",
    "our_df = games_df[games_df['Название команды'] == 'Москва-Петушок Большая Кокоша'].sort_values('number')\n",
    "our_df.reset_index(drop=True).iloc[:, 2:10].plot.line(ax=ax)\n",
    "plt.grid()"
   ]
  },
  {
   "cell_type": "code",
   "execution_count": 20,
   "metadata": {
    "ExecuteTime": {
     "end_time": "2023-11-08T12:48:07.468685Z",
     "start_time": "2023-11-08T12:48:07.205510Z"
    }
   },
   "outputs": [
    {
     "data": {
      "image/png": "[encoded data removed]",
      "text/plain": [
       "<Figure size 936x576 with 1 Axes>"
      ]
     },
     "metadata": {
      "needs_background": "light"
     },
     "output_type": "display_data"
    }
   ],
   "source": [
    "fig, ax = plt.subplots(figsize=(13,8))\n",
    "our_df.reset_index(drop=True).iloc[:, 3:10].rolling(window=5).mean().plot.line(ax=ax)\n",
    "plt.grid()\n",
    "plt.title('Скользящее среднее (w=5) по раундам, Москва-Петушок Большая Кокоша', fontsize=15);"
   ]
  },
  {
   "cell_type": "markdown",
   "metadata": {},
   "source": [
    "### В какой день куда идем"
   ]
  },
  {
   "cell_type": "code",
   "execution_count": 22,
   "metadata": {
    "ExecuteTime": {
     "end_time": "2023-11-08T12:48:26.554507Z",
     "start_time": "2023-11-08T12:48:26.268699Z"
    },
    "scrolled": false
   },
   "outputs": [
    {
     "data": {
      "image/png": "[encoded data removed]",
      "text/plain": [
       "<Figure size 936x720 with 2 Axes>"
      ]
     },
     "metadata": {
      "needs_background": "light"
     },
     "output_type": "display_data"
    }
   ],
   "source": [
    "fig, ax = plt.subplots(figsize=(13, 10))\n",
    "data = games_df[(games_df['Место'] == 13) & (games_df['place'].isin(['CLUB LIBERTY BAR', 'Chesterfield Bar', 'Дорогая, я перезвоню', 'Известия Hall', 'Резиденция']))].groupby(['place', 'День недели']).filter(lambda x: x.size >= 10).groupby(['place', 'День недели'])['Итого'].mean().reset_index()\n",
    "data = pd.pivot_table(data, index='place', columns='День недели', values='Итого')\n",
    "data = data[['Понедельник', 'Вторник', 'Среда', 'Четверг', 'Пятница', 'Суббота', 'Воскресенье']]\n",
    "sns.heatmap(data=data, annot=True, fmt=\".2f\", ax=ax)\n",
    "plt.title('Бар/День недели, avg баллов на пиво, cell_size >= 10', fontsize=20);"
   ]
  },
  {
   "cell_type": "markdown",
   "metadata": {},
   "source": [
    "### Детекция читинга\n",
    "\n",
    "Правда ли в последний день розыгрыша пака вопросов набирают больше в среднем баллов, чем в первый"
   ]
  },
  {
   "cell_type": "code",
   "execution_count": 98,
   "metadata": {
    "ExecuteTime": {
     "end_time": "2023-11-08T13:04:30.676009Z",
     "start_time": "2023-11-08T13:04:30.661995Z"
    }
   },
   "outputs": [
    {
     "name": "stdout",
     "output_type": "stream",
     "text": [
      "(2436, 18)\n"
     ]
    }
   ],
   "source": [
    "# Чтобы исключить влияние вместимости бара, возьмем игры, которые играли несколько раз в одном баре,\n",
    "# например, Честерфилде\n",
    "filt_df = games_df[games_df['place'] == 'Chesterfield Bar']\n",
    "\n",
    "# Для очистки от шума оставим только высокие места, так как если читинг есть, то читеры вряд ли болтаются\n",
    "# в хвосте\n",
    "filt_df = filt_df[filt_df['Место'] <= 10]\n",
    "\n",
    "print(filt_df.shape)"
   ]
  },
  {
   "cell_type": "code",
   "execution_count": 99,
   "metadata": {
    "ExecuteTime": {
     "end_time": "2023-11-08T13:04:31.226304Z",
     "start_time": "2023-11-08T13:04:31.211760Z"
    }
   },
   "outputs": [
    {
     "data": {
      "text/plain": [
       "1    44\n",
       "2    37\n",
       "3    39\n",
       "4     2\n",
       "Name: game_id, dtype: int64"
      ]
     },
     "execution_count": 99,
     "metadata": {},
     "output_type": "execute_result"
    }
   ],
   "source": [
    "# Сколько раз в Честерфилде играют один и тот же пак вопросов\n",
    "filt_df.groupby('number')['game_id'].nunique().value_counts().sort_index()"
   ]
  },
  {
   "cell_type": "code",
   "execution_count": 100,
   "metadata": {
    "ExecuteTime": {
     "end_time": "2023-11-08T13:04:32.779697Z",
     "start_time": "2023-11-08T13:04:32.738022Z"
    }
   },
   "outputs": [
    {
     "name": "stdout",
     "output_type": "stream",
     "text": [
      "(1252, 18)\n"
     ]
    }
   ],
   "source": [
    "# Возьмем 3+ (Чтоб точно было время слить вопросы)\n",
    "filt_df = filt_df.groupby('number').filter(lambda x: x['game_id'].nunique() >= 3)\n",
    "print(filt_df.shape)"
   ]
  },
  {
   "cell_type": "code",
   "execution_count": 101,
   "metadata": {
    "ExecuteTime": {
     "end_time": "2023-11-08T13:04:33.107206Z",
     "start_time": "2023-11-08T13:04:33.002568Z"
    }
   },
   "outputs": [
    {
     "data": {
      "text/html": [
       "<div>\n",
       "<style scoped>\n",
       "    .dataframe tbody tr th:only-of-type {\n",
       "        vertical-align: middle;\n",
       "    }\n",
       "\n",
       "    .dataframe tbody tr th {\n",
       "        vertical-align: top;\n",
       "    }\n",
       "\n",
       "    .dataframe thead th {\n",
       "        text-align: right;\n",
       "    }\n",
       "</style>\n",
       "<table border=\"1\" class=\"dataframe\">\n",
       "  <thead>\n",
       "    <tr style=\"text-align: right;\">\n",
       "      <th></th>\n",
       "      <th>Место</th>\n",
       "      <th>Название команды</th>\n",
       "      <th>Итого</th>\n",
       "      <th>1 раунд</th>\n",
       "      <th>2 раунд</th>\n",
       "      <th>3 раунд</th>\n",
       "      <th>4 раунд</th>\n",
       "      <th>5 раунд</th>\n",
       "      <th>6 раунд</th>\n",
       "      <th>7 раунд</th>\n",
       "      <th>game_id</th>\n",
       "      <th>итого</th>\n",
       "      <th>name</th>\n",
       "      <th>number</th>\n",
       "      <th>place</th>\n",
       "      <th>date</th>\n",
       "      <th>День недели</th>\n",
       "      <th>dt</th>\n",
       "      <th>pack_session_num</th>\n",
       "    </tr>\n",
       "  </thead>\n",
       "  <tbody>\n",
       "    <tr>\n",
       "      <th>0</th>\n",
       "      <td>1.0</td>\n",
       "      <td>Немолодые ветра</td>\n",
       "      <td>50.0</td>\n",
       "      <td>4.0</td>\n",
       "      <td>5.0</td>\n",
       "      <td>5.0</td>\n",
       "      <td>8.0</td>\n",
       "      <td>6</td>\n",
       "      <td>4.0</td>\n",
       "      <td>18.0</td>\n",
       "      <td>50521</td>\n",
       "      <td>50.0</td>\n",
       "      <td>Квиз, плиз!</td>\n",
       "      <td>776</td>\n",
       "      <td>Chesterfield Bar</td>\n",
       "      <td>19 января, Четверг</td>\n",
       "      <td>Четверг</td>\n",
       "      <td>2023-01-19</td>\n",
       "      <td>2</td>\n",
       "    </tr>\n",
       "    <tr>\n",
       "      <th>1</th>\n",
       "      <td>2.0</td>\n",
       "      <td>Кот да винчик</td>\n",
       "      <td>48.0</td>\n",
       "      <td>4.0</td>\n",
       "      <td>5.0</td>\n",
       "      <td>5.0</td>\n",
       "      <td>6.0</td>\n",
       "      <td>6</td>\n",
       "      <td>4.0</td>\n",
       "      <td>18.0</td>\n",
       "      <td>50521</td>\n",
       "      <td>48.0</td>\n",
       "      <td>Квиз, плиз!</td>\n",
       "      <td>776</td>\n",
       "      <td>Chesterfield Bar</td>\n",
       "      <td>19 января, Четверг</td>\n",
       "      <td>Четверг</td>\n",
       "      <td>2023-01-19</td>\n",
       "      <td>2</td>\n",
       "    </tr>\n",
       "    <tr>\n",
       "      <th>2</th>\n",
       "      <td>3.0</td>\n",
       "      <td>CD</td>\n",
       "      <td>48.0</td>\n",
       "      <td>4.0</td>\n",
       "      <td>6.0</td>\n",
       "      <td>5.0</td>\n",
       "      <td>8.0</td>\n",
       "      <td>6</td>\n",
       "      <td>4.0</td>\n",
       "      <td>15.0</td>\n",
       "      <td>50521</td>\n",
       "      <td>48.0</td>\n",
       "      <td>Квиз, плиз!</td>\n",
       "      <td>776</td>\n",
       "      <td>Chesterfield Bar</td>\n",
       "      <td>19 января, Четверг</td>\n",
       "      <td>Четверг</td>\n",
       "      <td>2023-01-19</td>\n",
       "      <td>2</td>\n",
       "    </tr>\n",
       "    <tr>\n",
       "      <th>3</th>\n",
       "      <td>4.0</td>\n",
       "      <td>Горид</td>\n",
       "      <td>45.0</td>\n",
       "      <td>5.0</td>\n",
       "      <td>4.0</td>\n",
       "      <td>6.0</td>\n",
       "      <td>4.0</td>\n",
       "      <td>6</td>\n",
       "      <td>2.0</td>\n",
       "      <td>18.0</td>\n",
       "      <td>50521</td>\n",
       "      <td>45.0</td>\n",
       "      <td>Квиз, плиз!</td>\n",
       "      <td>776</td>\n",
       "      <td>Chesterfield Bar</td>\n",
       "      <td>19 января, Четверг</td>\n",
       "      <td>Четверг</td>\n",
       "      <td>2023-01-19</td>\n",
       "      <td>2</td>\n",
       "    </tr>\n",
       "    <tr>\n",
       "      <th>4</th>\n",
       "      <td>5.0</td>\n",
       "      <td>По***, ГОЙДА!</td>\n",
       "      <td>44.0</td>\n",
       "      <td>6.0</td>\n",
       "      <td>3.0</td>\n",
       "      <td>4.0</td>\n",
       "      <td>8.0</td>\n",
       "      <td>5</td>\n",
       "      <td>2.0</td>\n",
       "      <td>16.0</td>\n",
       "      <td>50521</td>\n",
       "      <td>44.0</td>\n",
       "      <td>Квиз, плиз!</td>\n",
       "      <td>776</td>\n",
       "      <td>Chesterfield Bar</td>\n",
       "      <td>19 января, Четверг</td>\n",
       "      <td>Четверг</td>\n",
       "      <td>2023-01-19</td>\n",
       "      <td>2</td>\n",
       "    </tr>\n",
       "  </tbody>\n",
       "</table>\n",
       "</div>"
      ],
      "text/plain": [
       "   Место Название команды  Итого 1 раунд  2 раунд  3 раунд  4 раунд 5 раунд  \\\n",
       "0    1.0  Немолодые ветра   50.0     4.0      5.0      5.0      8.0       6   \n",
       "1    2.0    Кот да винчик   48.0     4.0      5.0      5.0      6.0       6   \n",
       "2    3.0               CD   48.0     4.0      6.0      5.0      8.0       6   \n",
       "3    4.0            Горид   45.0     5.0      4.0      6.0      4.0       6   \n",
       "4    5.0    По***, ГОЙДА!   44.0     6.0      3.0      4.0      8.0       5   \n",
       "\n",
       "   6 раунд  7 раунд  game_id  итого          name  number             place  \\\n",
       "0      4.0     18.0    50521   50.0  Квиз, плиз!      776  Chesterfield Bar   \n",
       "1      4.0     18.0    50521   48.0  Квиз, плиз!      776  Chesterfield Bar   \n",
       "2      4.0     15.0    50521   48.0  Квиз, плиз!      776  Chesterfield Bar   \n",
       "3      2.0     18.0    50521   45.0  Квиз, плиз!      776  Chesterfield Bar   \n",
       "4      2.0     16.0    50521   44.0  Квиз, плиз!      776  Chesterfield Bar   \n",
       "\n",
       "                 date День недели          dt  pack_session_num  \n",
       "0  19 января, Четверг     Четверг  2023-01-19                 2  \n",
       "1  19 января, Четверг     Четверг  2023-01-19                 2  \n",
       "2  19 января, Четверг     Четверг  2023-01-19                 2  \n",
       "3  19 января, Четверг     Четверг  2023-01-19                 2  \n",
       "4  19 января, Четверг     Четверг  2023-01-19                 2  "
      ]
     },
     "execution_count": 101,
     "metadata": {},
     "output_type": "execute_result"
    }
   ],
   "source": [
    "# Добавим столбец pack_session_num - порядковый номер дня, в который играли фиксированный пак вопросов\n",
    "\n",
    "flat_list = []\n",
    "for i, gr in filt_df.groupby('number'):\n",
    "    game_dict = {i: v for v, i in enumerate(sorted(gr['dt'].unique()))}\n",
    "    gr['pack_session_num'] = gr['dt'].map(game_dict)\n",
    "    flat_list.append(gr)\n",
    "    \n",
    "filt_df = pd.concat(flat_list, axis=0, ignore_index=True)\n",
    "\n",
    "filt_df.head()"
   ]
  },
  {
   "cell_type": "code",
   "execution_count": 102,
   "metadata": {
    "ExecuteTime": {
     "end_time": "2023-11-08T13:04:35.219451Z",
     "start_time": "2023-11-08T13:04:35.207139Z"
    }
   },
   "outputs": [
    {
     "data": {
      "text/html": [
       "<div>\n",
       "<style scoped>\n",
       "    .dataframe tbody tr th:only-of-type {\n",
       "        vertical-align: middle;\n",
       "    }\n",
       "\n",
       "    .dataframe tbody tr th {\n",
       "        vertical-align: top;\n",
       "    }\n",
       "\n",
       "    .dataframe thead th {\n",
       "        text-align: right;\n",
       "    }\n",
       "</style>\n",
       "<table border=\"1\" class=\"dataframe\">\n",
       "  <thead>\n",
       "    <tr style=\"text-align: right;\">\n",
       "      <th></th>\n",
       "      <th>number</th>\n",
       "      <th>pack_session_num</th>\n",
       "      <th>avg</th>\n",
       "    </tr>\n",
       "  </thead>\n",
       "  <tbody>\n",
       "    <tr>\n",
       "      <th>0</th>\n",
       "      <td>776</td>\n",
       "      <td>0</td>\n",
       "      <td>44.4</td>\n",
       "    </tr>\n",
       "    <tr>\n",
       "      <th>1</th>\n",
       "      <td>776</td>\n",
       "      <td>1</td>\n",
       "      <td>47.8</td>\n",
       "    </tr>\n",
       "    <tr>\n",
       "      <th>2</th>\n",
       "      <td>776</td>\n",
       "      <td>2</td>\n",
       "      <td>44.4</td>\n",
       "    </tr>\n",
       "    <tr>\n",
       "      <th>3</th>\n",
       "      <td>780</td>\n",
       "      <td>0</td>\n",
       "      <td>42.3</td>\n",
       "    </tr>\n",
       "    <tr>\n",
       "      <th>4</th>\n",
       "      <td>780</td>\n",
       "      <td>1</td>\n",
       "      <td>46.6</td>\n",
       "    </tr>\n",
       "  </tbody>\n",
       "</table>\n",
       "</div>"
      ],
      "text/plain": [
       "   number  pack_session_num   avg\n",
       "0     776                 0  44.4\n",
       "1     776                 1  47.8\n",
       "2     776                 2  44.4\n",
       "3     780                 0  42.3\n",
       "4     780                 1  46.6"
      ]
     },
     "execution_count": 102,
     "metadata": {},
     "output_type": "execute_result"
    }
   ],
   "source": [
    "agg_df = filt_df.groupby(['number', 'pack_session_num'])['Итого'].mean().to_frame('avg').reset_index()\n",
    "agg_df.head()"
   ]
  },
  {
   "cell_type": "code",
   "execution_count": 103,
   "metadata": {
    "ExecuteTime": {
     "end_time": "2023-11-08T13:04:36.449353Z",
     "start_time": "2023-11-08T13:04:36.408967Z"
    }
   },
   "outputs": [
    {
     "data": {
      "text/html": [
       "<div>\n",
       "<style scoped>\n",
       "    .dataframe tbody tr th:only-of-type {\n",
       "        vertical-align: middle;\n",
       "    }\n",
       "\n",
       "    .dataframe tbody tr th {\n",
       "        vertical-align: top;\n",
       "    }\n",
       "\n",
       "    .dataframe thead th {\n",
       "        text-align: right;\n",
       "    }\n",
       "</style>\n",
       "<table border=\"1\" class=\"dataframe\">\n",
       "  <thead>\n",
       "    <tr style=\"text-align: right;\">\n",
       "      <th>pack_session_num</th>\n",
       "      <th>0</th>\n",
       "      <th>1</th>\n",
       "      <th>2</th>\n",
       "      <th>3</th>\n",
       "      <th>first_day_avg</th>\n",
       "      <th>last_day_avg</th>\n",
       "    </tr>\n",
       "    <tr>\n",
       "      <th>number</th>\n",
       "      <th></th>\n",
       "      <th></th>\n",
       "      <th></th>\n",
       "      <th></th>\n",
       "      <th></th>\n",
       "      <th></th>\n",
       "    </tr>\n",
       "  </thead>\n",
       "  <tbody>\n",
       "    <tr>\n",
       "      <th>776</th>\n",
       "      <td>44.4</td>\n",
       "      <td>47.800000</td>\n",
       "      <td>44.400000</td>\n",
       "      <td>NaN</td>\n",
       "      <td>44.4</td>\n",
       "      <td>44.400000</td>\n",
       "    </tr>\n",
       "    <tr>\n",
       "      <th>780</th>\n",
       "      <td>42.3</td>\n",
       "      <td>46.600000</td>\n",
       "      <td>42.100000</td>\n",
       "      <td>NaN</td>\n",
       "      <td>42.3</td>\n",
       "      <td>42.100000</td>\n",
       "    </tr>\n",
       "    <tr>\n",
       "      <th>783</th>\n",
       "      <td>50.0</td>\n",
       "      <td>50.600000</td>\n",
       "      <td>46.300000</td>\n",
       "      <td>NaN</td>\n",
       "      <td>50.0</td>\n",
       "      <td>46.300000</td>\n",
       "    </tr>\n",
       "    <tr>\n",
       "      <th>786</th>\n",
       "      <td>46.9</td>\n",
       "      <td>47.800000</td>\n",
       "      <td>48.500000</td>\n",
       "      <td>NaN</td>\n",
       "      <td>46.9</td>\n",
       "      <td>48.500000</td>\n",
       "    </tr>\n",
       "    <tr>\n",
       "      <th>789</th>\n",
       "      <td>45.3</td>\n",
       "      <td>48.090909</td>\n",
       "      <td>48.272727</td>\n",
       "      <td>NaN</td>\n",
       "      <td>45.3</td>\n",
       "      <td>48.272727</td>\n",
       "    </tr>\n",
       "    <tr>\n",
       "      <th>793</th>\n",
       "      <td>38.9</td>\n",
       "      <td>41.500000</td>\n",
       "      <td>42.300000</td>\n",
       "      <td>NaN</td>\n",
       "      <td>38.9</td>\n",
       "      <td>42.300000</td>\n",
       "    </tr>\n",
       "    <tr>\n",
       "      <th>796</th>\n",
       "      <td>44.6</td>\n",
       "      <td>50.700000</td>\n",
       "      <td>46.100000</td>\n",
       "      <td>NaN</td>\n",
       "      <td>44.6</td>\n",
       "      <td>46.100000</td>\n",
       "    </tr>\n",
       "    <tr>\n",
       "      <th>799</th>\n",
       "      <td>36.6</td>\n",
       "      <td>34.600000</td>\n",
       "      <td>44.100000</td>\n",
       "      <td>44.5</td>\n",
       "      <td>36.6</td>\n",
       "      <td>44.500000</td>\n",
       "    </tr>\n",
       "    <tr>\n",
       "      <th>802</th>\n",
       "      <td>36.8</td>\n",
       "      <td>40.500000</td>\n",
       "      <td>40.000000</td>\n",
       "      <td>NaN</td>\n",
       "      <td>36.8</td>\n",
       "      <td>40.000000</td>\n",
       "    </tr>\n",
       "    <tr>\n",
       "      <th>805</th>\n",
       "      <td>45.5</td>\n",
       "      <td>48.300000</td>\n",
       "      <td>46.200000</td>\n",
       "      <td>NaN</td>\n",
       "      <td>45.5</td>\n",
       "      <td>46.200000</td>\n",
       "    </tr>\n",
       "    <tr>\n",
       "      <th>808</th>\n",
       "      <td>46.1</td>\n",
       "      <td>46.100000</td>\n",
       "      <td>47.900000</td>\n",
       "      <td>NaN</td>\n",
       "      <td>46.1</td>\n",
       "      <td>47.900000</td>\n",
       "    </tr>\n",
       "    <tr>\n",
       "      <th>811</th>\n",
       "      <td>38.8</td>\n",
       "      <td>38.800000</td>\n",
       "      <td>46.000000</td>\n",
       "      <td>NaN</td>\n",
       "      <td>38.8</td>\n",
       "      <td>46.000000</td>\n",
       "    </tr>\n",
       "    <tr>\n",
       "      <th>814</th>\n",
       "      <td>39.9</td>\n",
       "      <td>46.500000</td>\n",
       "      <td>43.700000</td>\n",
       "      <td>NaN</td>\n",
       "      <td>39.9</td>\n",
       "      <td>43.700000</td>\n",
       "    </tr>\n",
       "    <tr>\n",
       "      <th>823</th>\n",
       "      <td>43.0</td>\n",
       "      <td>44.900000</td>\n",
       "      <td>41.700000</td>\n",
       "      <td>NaN</td>\n",
       "      <td>43.0</td>\n",
       "      <td>41.700000</td>\n",
       "    </tr>\n",
       "    <tr>\n",
       "      <th>824</th>\n",
       "      <td>53.3</td>\n",
       "      <td>46.300000</td>\n",
       "      <td>51.400000</td>\n",
       "      <td>NaN</td>\n",
       "      <td>53.3</td>\n",
       "      <td>51.400000</td>\n",
       "    </tr>\n",
       "    <tr>\n",
       "      <th>826</th>\n",
       "      <td>43.3</td>\n",
       "      <td>46.700000</td>\n",
       "      <td>50.500000</td>\n",
       "      <td>NaN</td>\n",
       "      <td>43.3</td>\n",
       "      <td>50.500000</td>\n",
       "    </tr>\n",
       "    <tr>\n",
       "      <th>829</th>\n",
       "      <td>47.4</td>\n",
       "      <td>45.100000</td>\n",
       "      <td>44.300000</td>\n",
       "      <td>NaN</td>\n",
       "      <td>47.4</td>\n",
       "      <td>44.300000</td>\n",
       "    </tr>\n",
       "    <tr>\n",
       "      <th>832</th>\n",
       "      <td>41.9</td>\n",
       "      <td>39.200000</td>\n",
       "      <td>43.200000</td>\n",
       "      <td>NaN</td>\n",
       "      <td>41.9</td>\n",
       "      <td>43.200000</td>\n",
       "    </tr>\n",
       "    <tr>\n",
       "      <th>835</th>\n",
       "      <td>39.5</td>\n",
       "      <td>45.800000</td>\n",
       "      <td>41.800000</td>\n",
       "      <td>NaN</td>\n",
       "      <td>39.5</td>\n",
       "      <td>41.800000</td>\n",
       "    </tr>\n",
       "    <tr>\n",
       "      <th>838</th>\n",
       "      <td>42.0</td>\n",
       "      <td>45.000000</td>\n",
       "      <td>45.900000</td>\n",
       "      <td>NaN</td>\n",
       "      <td>42.0</td>\n",
       "      <td>45.900000</td>\n",
       "    </tr>\n",
       "    <tr>\n",
       "      <th>844</th>\n",
       "      <td>52.3</td>\n",
       "      <td>49.100000</td>\n",
       "      <td>50.000000</td>\n",
       "      <td>NaN</td>\n",
       "      <td>52.3</td>\n",
       "      <td>50.000000</td>\n",
       "    </tr>\n",
       "    <tr>\n",
       "      <th>847</th>\n",
       "      <td>46.0</td>\n",
       "      <td>48.000000</td>\n",
       "      <td>47.300000</td>\n",
       "      <td>NaN</td>\n",
       "      <td>46.0</td>\n",
       "      <td>47.300000</td>\n",
       "    </tr>\n",
       "    <tr>\n",
       "      <th>850</th>\n",
       "      <td>42.2</td>\n",
       "      <td>40.900000</td>\n",
       "      <td>41.200000</td>\n",
       "      <td>NaN</td>\n",
       "      <td>42.2</td>\n",
       "      <td>41.200000</td>\n",
       "    </tr>\n",
       "    <tr>\n",
       "      <th>853</th>\n",
       "      <td>49.5</td>\n",
       "      <td>51.400000</td>\n",
       "      <td>41.900000</td>\n",
       "      <td>NaN</td>\n",
       "      <td>49.5</td>\n",
       "      <td>41.900000</td>\n",
       "    </tr>\n",
       "    <tr>\n",
       "      <th>856</th>\n",
       "      <td>46.6</td>\n",
       "      <td>43.200000</td>\n",
       "      <td>44.400000</td>\n",
       "      <td>NaN</td>\n",
       "      <td>46.6</td>\n",
       "      <td>44.400000</td>\n",
       "    </tr>\n",
       "    <tr>\n",
       "      <th>859</th>\n",
       "      <td>43.5</td>\n",
       "      <td>46.300000</td>\n",
       "      <td>44.900000</td>\n",
       "      <td>NaN</td>\n",
       "      <td>43.5</td>\n",
       "      <td>44.900000</td>\n",
       "    </tr>\n",
       "    <tr>\n",
       "      <th>860</th>\n",
       "      <td>46.5</td>\n",
       "      <td>43.100000</td>\n",
       "      <td>45.100000</td>\n",
       "      <td>NaN</td>\n",
       "      <td>46.5</td>\n",
       "      <td>45.100000</td>\n",
       "    </tr>\n",
       "    <tr>\n",
       "      <th>862</th>\n",
       "      <td>48.2</td>\n",
       "      <td>46.500000</td>\n",
       "      <td>50.300000</td>\n",
       "      <td>NaN</td>\n",
       "      <td>48.2</td>\n",
       "      <td>50.300000</td>\n",
       "    </tr>\n",
       "    <tr>\n",
       "      <th>865</th>\n",
       "      <td>48.1</td>\n",
       "      <td>43.800000</td>\n",
       "      <td>47.200000</td>\n",
       "      <td>NaN</td>\n",
       "      <td>48.1</td>\n",
       "      <td>47.200000</td>\n",
       "    </tr>\n",
       "    <tr>\n",
       "      <th>868</th>\n",
       "      <td>41.1</td>\n",
       "      <td>45.700000</td>\n",
       "      <td>42.500000</td>\n",
       "      <td>NaN</td>\n",
       "      <td>41.1</td>\n",
       "      <td>42.500000</td>\n",
       "    </tr>\n",
       "    <tr>\n",
       "      <th>871</th>\n",
       "      <td>45.2</td>\n",
       "      <td>43.300000</td>\n",
       "      <td>46.500000</td>\n",
       "      <td>NaN</td>\n",
       "      <td>45.2</td>\n",
       "      <td>46.500000</td>\n",
       "    </tr>\n",
       "    <tr>\n",
       "      <th>874</th>\n",
       "      <td>46.1</td>\n",
       "      <td>46.100000</td>\n",
       "      <td>51.000000</td>\n",
       "      <td>46.3</td>\n",
       "      <td>46.1</td>\n",
       "      <td>46.300000</td>\n",
       "    </tr>\n",
       "    <tr>\n",
       "      <th>877</th>\n",
       "      <td>39.3</td>\n",
       "      <td>43.100000</td>\n",
       "      <td>44.400000</td>\n",
       "      <td>NaN</td>\n",
       "      <td>39.3</td>\n",
       "      <td>44.400000</td>\n",
       "    </tr>\n",
       "    <tr>\n",
       "      <th>880</th>\n",
       "      <td>43.8</td>\n",
       "      <td>44.100000</td>\n",
       "      <td>44.300000</td>\n",
       "      <td>NaN</td>\n",
       "      <td>43.8</td>\n",
       "      <td>44.300000</td>\n",
       "    </tr>\n",
       "    <tr>\n",
       "      <th>883</th>\n",
       "      <td>47.5</td>\n",
       "      <td>48.900000</td>\n",
       "      <td>45.400000</td>\n",
       "      <td>NaN</td>\n",
       "      <td>47.5</td>\n",
       "      <td>45.400000</td>\n",
       "    </tr>\n",
       "    <tr>\n",
       "      <th>886</th>\n",
       "      <td>51.1</td>\n",
       "      <td>50.000000</td>\n",
       "      <td>48.200000</td>\n",
       "      <td>NaN</td>\n",
       "      <td>51.1</td>\n",
       "      <td>48.200000</td>\n",
       "    </tr>\n",
       "    <tr>\n",
       "      <th>889</th>\n",
       "      <td>43.8</td>\n",
       "      <td>47.700000</td>\n",
       "      <td>45.000000</td>\n",
       "      <td>NaN</td>\n",
       "      <td>43.8</td>\n",
       "      <td>45.000000</td>\n",
       "    </tr>\n",
       "    <tr>\n",
       "      <th>892</th>\n",
       "      <td>44.8</td>\n",
       "      <td>46.500000</td>\n",
       "      <td>46.800000</td>\n",
       "      <td>NaN</td>\n",
       "      <td>44.8</td>\n",
       "      <td>46.800000</td>\n",
       "    </tr>\n",
       "    <tr>\n",
       "      <th>895</th>\n",
       "      <td>40.0</td>\n",
       "      <td>47.800000</td>\n",
       "      <td>45.000000</td>\n",
       "      <td>NaN</td>\n",
       "      <td>40.0</td>\n",
       "      <td>45.000000</td>\n",
       "    </tr>\n",
       "    <tr>\n",
       "      <th>898</th>\n",
       "      <td>50.1</td>\n",
       "      <td>51.300000</td>\n",
       "      <td>50.800000</td>\n",
       "      <td>NaN</td>\n",
       "      <td>50.1</td>\n",
       "      <td>50.800000</td>\n",
       "    </tr>\n",
       "    <tr>\n",
       "      <th>901</th>\n",
       "      <td>45.8</td>\n",
       "      <td>47.300000</td>\n",
       "      <td>47.500000</td>\n",
       "      <td>NaN</td>\n",
       "      <td>45.8</td>\n",
       "      <td>47.500000</td>\n",
       "    </tr>\n",
       "  </tbody>\n",
       "</table>\n",
       "</div>"
      ],
      "text/plain": [
       "pack_session_num     0          1          2     3  first_day_avg  \\\n",
       "number                                                              \n",
       "776               44.4  47.800000  44.400000   NaN           44.4   \n",
       "780               42.3  46.600000  42.100000   NaN           42.3   \n",
       "783               50.0  50.600000  46.300000   NaN           50.0   \n",
       "786               46.9  47.800000  48.500000   NaN           46.9   \n",
       "789               45.3  48.090909  48.272727   NaN           45.3   \n",
       "793               38.9  41.500000  42.300000   NaN           38.9   \n",
       "796               44.6  50.700000  46.100000   NaN           44.6   \n",
       "799               36.6  34.600000  44.100000  44.5           36.6   \n",
       "802               36.8  40.500000  40.000000   NaN           36.8   \n",
       "805               45.5  48.300000  46.200000   NaN           45.5   \n",
       "808               46.1  46.100000  47.900000   NaN           46.1   \n",
       "811               38.8  38.800000  46.000000   NaN           38.8   \n",
       "814               39.9  46.500000  43.700000   NaN           39.9   \n",
       "823               43.0  44.900000  41.700000   NaN           43.0   \n",
       "824               53.3  46.300000  51.400000   NaN           53.3   \n",
       "826               43.3  46.700000  50.500000   NaN           43.3   \n",
       "829               47.4  45.100000  44.300000   NaN           47.4   \n",
       "832               41.9  39.200000  43.200000   NaN           41.9   \n",
       "835               39.5  45.800000  41.800000   NaN           39.5   \n",
       "838               42.0  45.000000  45.900000   NaN           42.0   \n",
       "844               52.3  49.100000  50.000000   NaN           52.3   \n",
       "847               46.0  48.000000  47.300000   NaN           46.0   \n",
       "850               42.2  40.900000  41.200000   NaN           42.2   \n",
       "853               49.5  51.400000  41.900000   NaN           49.5   \n",
       "856               46.6  43.200000  44.400000   NaN           46.6   \n",
       "859               43.5  46.300000  44.900000   NaN           43.5   \n",
       "860               46.5  43.100000  45.100000   NaN           46.5   \n",
       "862               48.2  46.500000  50.300000   NaN           48.2   \n",
       "865               48.1  43.800000  47.200000   NaN           48.1   \n",
       "868               41.1  45.700000  42.500000   NaN           41.1   \n",
       "871               45.2  43.300000  46.500000   NaN           45.2   \n",
       "874               46.1  46.100000  51.000000  46.3           46.1   \n",
       "877               39.3  43.100000  44.400000   NaN           39.3   \n",
       "880               43.8  44.100000  44.300000   NaN           43.8   \n",
       "883               47.5  48.900000  45.400000   NaN           47.5   \n",
       "886               51.1  50.000000  48.200000   NaN           51.1   \n",
       "889               43.8  47.700000  45.000000   NaN           43.8   \n",
       "892               44.8  46.500000  46.800000   NaN           44.8   \n",
       "895               40.0  47.800000  45.000000   NaN           40.0   \n",
       "898               50.1  51.300000  50.800000   NaN           50.1   \n",
       "901               45.8  47.300000  47.500000   NaN           45.8   \n",
       "\n",
       "pack_session_num  last_day_avg  \n",
       "number                          \n",
       "776                  44.400000  \n",
       "780                  42.100000  \n",
       "783                  46.300000  \n",
       "786                  48.500000  \n",
       "789                  48.272727  \n",
       "793                  42.300000  \n",
       "796                  46.100000  \n",
       "799                  44.500000  \n",
       "802                  40.000000  \n",
       "805                  46.200000  \n",
       "808                  47.900000  \n",
       "811                  46.000000  \n",
       "814                  43.700000  \n",
       "823                  41.700000  \n",
       "824                  51.400000  \n",
       "826                  50.500000  \n",
       "829                  44.300000  \n",
       "832                  43.200000  \n",
       "835                  41.800000  \n",
       "838                  45.900000  \n",
       "844                  50.000000  \n",
       "847                  47.300000  \n",
       "850                  41.200000  \n",
       "853                  41.900000  \n",
       "856                  44.400000  \n",
       "859                  44.900000  \n",
       "860                  45.100000  \n",
       "862                  50.300000  \n",
       "865                  47.200000  \n",
       "868                  42.500000  \n",
       "871                  46.500000  \n",
       "874                  46.300000  \n",
       "877                  44.400000  \n",
       "880                  44.300000  \n",
       "883                  45.400000  \n",
       "886                  48.200000  \n",
       "889                  45.000000  \n",
       "892                  46.800000  \n",
       "895                  45.000000  \n",
       "898                  50.800000  \n",
       "901                  47.500000  "
      ]
     },
     "execution_count": 103,
     "metadata": {},
     "output_type": "execute_result"
    }
   ],
   "source": [
    "pivot_df = pd.pivot_table(data=agg_df, index='number', columns='pack_session_num', values='avg')\n",
    "pivot_df['first_day_avg'] = pivot_df[0]\n",
    "pivot_df['last_day_avg'] = pivot_df[3].fillna(pivot_df[2].fillna(pivot_df[1]))\n",
    "\n",
    "pivot_df"
   ]
  },
  {
   "cell_type": "code",
   "execution_count": 104,
   "metadata": {
    "ExecuteTime": {
     "end_time": "2023-11-08T13:04:42.912442Z",
     "start_time": "2023-11-08T13:04:42.907046Z"
    }
   },
   "outputs": [],
   "source": [
    "first = pivot_df['first_day_avg']\n",
    "last = pivot_df['last_day_avg']"
   ]
  },
  {
   "cell_type": "code",
   "execution_count": 105,
   "metadata": {
    "ExecuteTime": {
     "end_time": "2023-11-08T13:04:44.604182Z",
     "start_time": "2023-11-08T13:04:44.444059Z"
    }
   },
   "outputs": [
    {
     "data": {
      "text/plain": [
       "<matplotlib.axes._subplots.AxesSubplot at 0x7fdefd7cbc50>"
      ]
     },
     "execution_count": 105,
     "metadata": {},
     "output_type": "execute_result"
    },
    {
     "data": {
      "image/png": "[encoded data removed]",
      "text/plain": [
       "<Figure size 432x288 with 1 Axes>"
      ]
     },
     "metadata": {
      "needs_background": "light"
     },
     "output_type": "display_data"
    }
   ],
   "source": [
    "(last-first).hist()"
   ]
  },
  {
   "cell_type": "code",
   "execution_count": 106,
   "metadata": {
    "ExecuteTime": {
     "end_time": "2023-11-08T13:04:46.595336Z",
     "start_time": "2023-11-08T13:04:46.585831Z"
    }
   },
   "outputs": [],
   "source": [
    "from scipy.stats import wilcoxon, ttest_1samp\n",
    "stat, pval = wilcoxon(first, last)"
   ]
  },
  {
   "cell_type": "code",
   "execution_count": 109,
   "metadata": {
    "ExecuteTime": {
     "end_time": "2023-11-08T13:05:14.844215Z",
     "start_time": "2023-11-08T13:05:14.837277Z"
    }
   },
   "outputs": [
    {
     "name": "stdout",
     "output_type": "stream",
     "text": [
      "Средний дифф между баллами топ-10 в первый день розыгрыша пака и в последний равен 1.0261640798226166 баллов, p-value = 0.0401\n"
     ]
    }
   ],
   "source": [
    "print(f'Средний дифф между баллами топ-10 в первый день розыгрыша пака и в последний равен {(last-first).mean()} баллов, p-value = {round(pval, 4)}')"
   ]
  }
 ],
 "metadata": {
  "kernelspec": {
   "display_name": "Python 3",
   "language": "python",
   "name": "python3"
  },
  "language_info": {
   "codemirror_mode": {
    "name": "ipython",
    "version": 3
   },
   "file_extension": ".py",
   "mimetype": "text/x-python",
   "name": "python",
   "nbconvert_exporter": "python",
   "pygments_lexer": "ipython3",
   "version": "3.7.5"
  },
  "toc": {
   "base_numbering": 1,
   "nav_menu": {},
   "number_sections": true,
   "sideBar": true,
   "skip_h1_title": false,
   "title_cell": "Table of Contents",
   "title_sidebar": "Contents",
   "toc_cell": false,
   "toc_position": {},
   "toc_section_display": true,
   "toc_window_display": false
  }
 },
 "nbformat": 4,
 "nbformat_minor": 4
}
