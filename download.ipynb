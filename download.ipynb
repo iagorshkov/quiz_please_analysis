{
 "cells": [
  {
   "cell_type": "code",
   "execution_count": 1,
   "metadata": {
    "ExecuteTime": {
     "end_time": "2023-11-08T11:37:43.237929Z",
     "start_time": "2023-11-08T11:37:42.343517Z"
    }
   },
   "outputs": [],
   "source": [
    "import requests\n",
    "from bs4 import BeautifulSoup\n",
    "import pandas as pd\n",
    "from time import sleep\n",
    "import numpy as np\n",
    "from io import StringIO\n",
    "from tqdm import tqdm_notebook"
   ]
  },
  {
   "cell_type": "markdown",
   "metadata": {},
   "source": [
    "## Сбор игр"
   ]
  },
  {
   "cell_type": "code",
   "execution_count": 2,
   "metadata": {
    "ExecuteTime": {
     "end_time": "2023-11-08T11:37:43.256686Z",
     "start_time": "2023-11-08T11:37:43.239289Z"
    }
   },
   "outputs": [
    {
     "data": {
      "text/html": [
       "<div>\n",
       "<style scoped>\n",
       "    .dataframe tbody tr th:only-of-type {\n",
       "        vertical-align: middle;\n",
       "    }\n",
       "\n",
       "    .dataframe tbody tr th {\n",
       "        vertical-align: top;\n",
       "    }\n",
       "\n",
       "    .dataframe thead th {\n",
       "        text-align: right;\n",
       "    }\n",
       "</style>\n",
       "<table border=\"1\" class=\"dataframe\">\n",
       "  <thead>\n",
       "    <tr style=\"text-align: right;\">\n",
       "      <th></th>\n",
       "      <th>name</th>\n",
       "      <th>number</th>\n",
       "      <th>game_id</th>\n",
       "      <th>place</th>\n",
       "      <th>date</th>\n",
       "    </tr>\n",
       "  </thead>\n",
       "  <tbody>\n",
       "    <tr>\n",
       "      <th>0</th>\n",
       "      <td>[music party]</td>\n",
       "      <td>#9</td>\n",
       "      <td>65996</td>\n",
       "      <td>Old School Pub</td>\n",
       "      <td>1 ноября, Среда</td>\n",
       "    </tr>\n",
       "    <tr>\n",
       "      <th>1</th>\n",
       "      <td>[мультики]</td>\n",
       "      <td>#8</td>\n",
       "      <td>65997</td>\n",
       "      <td>Papa' S Bar &amp; Grill</td>\n",
       "      <td>1 ноября, Среда</td>\n",
       "    </tr>\n",
       "    <tr>\n",
       "      <th>2</th>\n",
       "      <td>[новички]</td>\n",
       "      <td>#899</td>\n",
       "      <td>65984</td>\n",
       "      <td>Резиденция</td>\n",
       "      <td>1 ноября, Среда</td>\n",
       "    </tr>\n",
       "    <tr>\n",
       "      <th>3</th>\n",
       "      <td>Квиз, плиз!</td>\n",
       "      <td>#899</td>\n",
       "      <td>65994</td>\n",
       "      <td>Chesterfield Bar</td>\n",
       "      <td>1 ноября, Среда</td>\n",
       "    </tr>\n",
       "    <tr>\n",
       "      <th>4</th>\n",
       "      <td>[HALLOWEEN]</td>\n",
       "      <td>#3</td>\n",
       "      <td>65986</td>\n",
       "      <td>Резиденция</td>\n",
       "      <td>31 октября, Вторник</td>\n",
       "    </tr>\n",
       "  </tbody>\n",
       "</table>\n",
       "</div>"
      ],
      "text/plain": [
       "             name number  game_id                place                 date\n",
       "0  [music party]      #9    65996       Old School Pub      1 ноября, Среда\n",
       "1     [мультики]      #8    65997  Papa' S Bar & Grill      1 ноября, Среда\n",
       "2      [новички]    #899    65984           Резиденция      1 ноября, Среда\n",
       "3    Квиз, плиз!    #899    65994     Chesterfield Bar      1 ноября, Среда\n",
       "4    [HALLOWEEN]      #3    65986           Резиденция  31 октября, Вторник"
      ]
     },
     "execution_count": 2,
     "metadata": {},
     "output_type": "execute_result"
    }
   ],
   "source": [
    "old_df = pd.read_csv('raw_games.csv')\n",
    "old_df.head()"
   ]
  },
  {
   "cell_type": "code",
   "execution_count": 7,
   "metadata": {
    "ExecuteTime": {
     "end_time": "2023-11-08T11:41:20.533473Z",
     "start_time": "2023-11-08T11:39:45.925051Z"
    }
   },
   "outputs": [],
   "source": [
    "games = []\n",
    "\n",
    "for i in range(80, 100):\n",
    "    bs = BeautifulSoup(requests.get(f'https://quizplease.ru/schedule-past?page={i}&per-page=12').text)\n",
    "    sleep(np.random.uniform(3, 5))\n",
    "    for block in bs.find_all('div', {'class': 'schedule-column'}):\n",
    "        name, number = [b.text for b in block.find_all('div', {'class': 'h2-game-card'})]\n",
    "        game_id = block.find_all('a', {'class': 'schedule-block-head'})[0]['href'].split('id=')[-1]\n",
    "        place = block.find_all('div', {'class': 'schedule-block-info-bar'})[0].text.replace('Где это?', '').strip()\n",
    "        date = block.find_all('div', {'class': 'h3'})[0].text\n",
    "\n",
    "        games.append({\n",
    "            \"name\": name,\n",
    "            \"number\": number,\n",
    "            \"game_id\": game_id,\n",
    "            \"place\": place, \n",
    "            \"date\": date\n",
    "        })"
   ]
  },
  {
   "cell_type": "code",
   "execution_count": 8,
   "metadata": {
    "ExecuteTime": {
     "end_time": "2023-11-08T11:41:23.476567Z",
     "start_time": "2023-11-08T11:41:23.465414Z"
    }
   },
   "outputs": [
    {
     "name": "stdout",
     "output_type": "stream",
     "text": [
      "(240, 5)\n",
      "(240, 5)\n"
     ]
    }
   ],
   "source": [
    "new_df = pd.DataFrame(games)\n",
    "new_df['game_id'] = new_df['game_id'].astype(int)\n",
    "print(new_df.shape)\n",
    "new_df = new_df[~new_df['game_id'].isin(old_df['game_id'])]\n",
    "print(new_df.shape)"
   ]
  },
  {
   "cell_type": "code",
   "execution_count": 9,
   "metadata": {
    "ExecuteTime": {
     "end_time": "2023-11-08T11:41:25.891478Z",
     "start_time": "2023-11-08T11:41:25.887200Z"
    }
   },
   "outputs": [],
   "source": [
    "df = pd.concat([old_df, new_df], axis=0, ignore_index=True)"
   ]
  },
  {
   "cell_type": "code",
   "execution_count": 10,
   "metadata": {
    "ExecuteTime": {
     "end_time": "2023-11-08T11:41:30.116242Z",
     "start_time": "2023-11-08T11:41:30.106908Z"
    }
   },
   "outputs": [],
   "source": [
    "df.to_csv('raw_games.csv', index=False)"
   ]
  },
  {
   "cell_type": "markdown",
   "metadata": {},
   "source": [
    "## Парсим игры"
   ]
  },
  {
   "cell_type": "code",
   "execution_count": 11,
   "metadata": {
    "ExecuteTime": {
     "end_time": "2023-11-08T11:41:31.328237Z",
     "start_time": "2023-11-08T11:41:31.135732Z"
    },
    "scrolled": true
   },
   "outputs": [
    {
     "name": "stderr",
     "output_type": "stream",
     "text": [
      "/home/ilya/anaconda3/lib/python3.7/site-packages/IPython/core/interactiveshell.py:3331: DtypeWarning: Columns (5,19,29,30,32,33,34,43,46) have mixed types.Specify dtype option on import or set low_memory=False.\n",
      "  exec(code_obj, self.user_global_ns, self.user_ns)\n"
     ]
    }
   ],
   "source": [
    "df = pd.read_csv('./raw_games.csv')\n",
    "game_df = pd.read_csv('./games.csv')"
   ]
  },
  {
   "cell_type": "code",
   "execution_count": 12,
   "metadata": {
    "ExecuteTime": {
     "end_time": "2023-11-08T11:41:32.536092Z",
     "start_time": "2023-11-08T11:41:32.533562Z"
    }
   },
   "outputs": [],
   "source": [
    "game_dfs = []"
   ]
  },
  {
   "cell_type": "code",
   "execution_count": 13,
   "metadata": {
    "ExecuteTime": {
     "end_time": "2023-11-08T11:41:33.022008Z",
     "start_time": "2023-11-08T11:41:33.015340Z"
    }
   },
   "outputs": [
    {
     "data": {
      "text/plain": [
       "(245, 5)"
      ]
     },
     "execution_count": 13,
     "metadata": {},
     "output_type": "execute_result"
    }
   ],
   "source": [
    "df[~df['game_id'].isin(game_df['game_id'].astype(int))].shape"
   ]
  },
  {
   "cell_type": "code",
   "execution_count": 14,
   "metadata": {
    "ExecuteTime": {
     "end_time": "2023-11-08T11:56:30.479404Z",
     "start_time": "2023-11-08T11:41:34.319241Z"
    }
   },
   "outputs": [
    {
     "name": "stderr",
     "output_type": "stream",
     "text": [
      "/home/ilya/anaconda3/lib/python3.7/site-packages/ipykernel_launcher.py:1: TqdmDeprecationWarning: This function will be removed in tqdm==5.0.0\n",
      "Please use `tqdm.notebook.tqdm` instead of `tqdm.tqdm_notebook`\n",
      "  \"\"\"Entry point for launching an IPython kernel.\n"
     ]
    },
    {
     "data": {
      "application/vnd.jupyter.widget-view+json": {
       "model_id": "b71f7a5e43744c49aed717238e09b255",
       "version_major": 2,
       "version_minor": 0
      },
      "text/plain": [
       "HBox(children=(FloatProgress(value=1.0, bar_style='info', max=1.0), HTML(value='')))"
      ]
     },
     "metadata": {},
     "output_type": "display_data"
    },
    {
     "name": "stdout",
     "output_type": "stream",
     "text": [
      "https://quizplease.ru/game-page?id=65205\n",
      "https://quizplease.ru/game-page?id=61464\n",
      "https://quizplease.ru/game-page?id=59652\n",
      "https://quizplease.ru/game-page?id=58876\n",
      "https://quizplease.ru/game-page?id=55931\n",
      "\n"
     ]
    }
   ],
   "source": [
    "for i, row in tqdm_notebook(df[~df['game_id'].isin(game_df['game_id'].astype(int))].iterrows()):\n",
    "    game_id = row[\"game_id\"]\n",
    "    try:\n",
    "        url = f'https://quizplease.ru/game-page?id={game_id}'\n",
    "        r = requests.get(url)\n",
    "        soup = BeautifulSoup(r.text)\n",
    "\n",
    "        tb = soup.find_all('table', {'class': 'game-table'})[0]\n",
    "\n",
    "        new_df = pd.read_html(StringIO(str(tb)))[0]\n",
    "        new_df['game_id'] = game_id\n",
    "        game_dfs.append(new_df)\n",
    "        df.loc[i, 'parsed'] = True\n",
    "        sleep(np.random.uniform(2, 4))\n",
    "    except IndexError:\n",
    "        print(url)"
   ]
  },
  {
   "cell_type": "code",
   "execution_count": 15,
   "metadata": {
    "ExecuteTime": {
     "end_time": "2023-11-08T12:02:17.599740Z",
     "start_time": "2023-11-08T12:02:17.357041Z"
    }
   },
   "outputs": [],
   "source": [
    "new_game_dfs = pd.concat(game_dfs, axis=0, ignore_index=True)\n",
    "new_game_dfs = new_game_dfs[~new_game_dfs['game_id'].isin(game_df['game_id'])]"
   ]
  },
  {
   "cell_type": "code",
   "execution_count": 16,
   "metadata": {
    "ExecuteTime": {
     "end_time": "2023-11-08T12:02:17.946432Z",
     "start_time": "2023-11-08T12:02:17.896809Z"
    }
   },
   "outputs": [],
   "source": [
    "game_df = pd.concat([game_df, new_game_dfs], axis=0, ignore_index=True)"
   ]
  },
  {
   "cell_type": "code",
   "execution_count": 17,
   "metadata": {
    "ExecuteTime": {
     "end_time": "2023-11-08T12:02:18.873329Z",
     "start_time": "2023-11-08T12:02:18.863387Z"
    }
   },
   "outputs": [],
   "source": [
    "game_df['game_id'] = game_df['game_id'].astype(int)"
   ]
  },
  {
   "cell_type": "code",
   "execution_count": 18,
   "metadata": {
    "ExecuteTime": {
     "end_time": "2023-11-08T12:02:20.147268Z",
     "start_time": "2023-11-08T12:02:19.387542Z"
    }
   },
   "outputs": [],
   "source": [
    "game_df.to_csv('./games.csv', index=False)"
   ]
  },
  {
   "cell_type": "code",
   "execution_count": 19,
   "metadata": {
    "ExecuteTime": {
     "end_time": "2023-11-08T12:02:21.446075Z",
     "start_time": "2023-11-08T12:02:21.402147Z"
    }
   },
   "outputs": [
    {
     "name": "stdout",
     "output_type": "stream",
     "text": [
      "(21, 53)\n"
     ]
    }
   ],
   "source": [
    "our_df = game_df[game_df['Название команды'] == 'Москва-Петушок Большая Кокоша']\n",
    "print(our_df.shape)"
   ]
  },
  {
   "cell_type": "code",
   "execution_count": 20,
   "metadata": {
    "ExecuteTime": {
     "end_time": "2023-11-08T12:02:22.838907Z",
     "start_time": "2023-11-08T12:02:22.832401Z"
    }
   },
   "outputs": [],
   "source": [
    "our_df = our_df.drop(our_df.isnull().mean().loc[lambda x: x == 1].index, axis=1)"
   ]
  },
  {
   "cell_type": "code",
   "execution_count": 21,
   "metadata": {
    "ExecuteTime": {
     "end_time": "2023-11-08T12:02:23.231004Z",
     "start_time": "2023-11-08T12:02:23.190709Z"
    },
    "scrolled": false
   },
   "outputs": [
    {
     "data": {
      "text/html": [
       "<div>\n",
       "<style scoped>\n",
       "    .dataframe tbody tr th:only-of-type {\n",
       "        vertical-align: middle;\n",
       "    }\n",
       "\n",
       "    .dataframe tbody tr th {\n",
       "        vertical-align: top;\n",
       "    }\n",
       "\n",
       "    .dataframe thead th {\n",
       "        text-align: right;\n",
       "    }\n",
       "</style>\n",
       "<table border=\"1\" class=\"dataframe\">\n",
       "  <thead>\n",
       "    <tr style=\"text-align: right;\">\n",
       "      <th></th>\n",
       "      <th>Место</th>\n",
       "      <th>Название команды</th>\n",
       "      <th>Итого</th>\n",
       "      <th>1 раунд</th>\n",
       "      <th>2 раунд</th>\n",
       "      <th>3 раунд</th>\n",
       "      <th>4 раунд</th>\n",
       "      <th>5 раунд</th>\n",
       "      <th>6 раунд</th>\n",
       "      <th>7 раунд</th>\n",
       "      <th>game_id</th>\n",
       "      <th>итого</th>\n",
       "      <th>name</th>\n",
       "      <th>number</th>\n",
       "      <th>place</th>\n",
       "      <th>parsed</th>\n",
       "    </tr>\n",
       "    <tr>\n",
       "      <th>date</th>\n",
       "      <th></th>\n",
       "      <th></th>\n",
       "      <th></th>\n",
       "      <th></th>\n",
       "      <th></th>\n",
       "      <th></th>\n",
       "      <th></th>\n",
       "      <th></th>\n",
       "      <th></th>\n",
       "      <th></th>\n",
       "      <th></th>\n",
       "      <th></th>\n",
       "      <th></th>\n",
       "      <th></th>\n",
       "      <th></th>\n",
       "      <th></th>\n",
       "    </tr>\n",
       "  </thead>\n",
       "  <tbody>\n",
       "    <tr>\n",
       "      <th>5 марта, Воскресенье</th>\n",
       "      <td>45.0</td>\n",
       "      <td>Москва-Петушок Большая Кокоша</td>\n",
       "      <td>NaN</td>\n",
       "      <td>4.0</td>\n",
       "      <td>5.0</td>\n",
       "      <td>1.0</td>\n",
       "      <td>8.0</td>\n",
       "      <td>2</td>\n",
       "      <td>0.0</td>\n",
       "      <td>2.0</td>\n",
       "      <td>52762</td>\n",
       "      <td>22.0</td>\n",
       "      <td>Квиз, плиз!</td>\n",
       "      <td>#796</td>\n",
       "      <td>Chesterfield Bar</td>\n",
       "      <td>True</td>\n",
       "    </tr>\n",
       "    <tr>\n",
       "      <th>26 мая, Пятница</th>\n",
       "      <td>12.0</td>\n",
       "      <td>Москва-Петушок Большая Кокоша</td>\n",
       "      <td>NaN</td>\n",
       "      <td>3.0</td>\n",
       "      <td>4.0</td>\n",
       "      <td>4.0</td>\n",
       "      <td>3.0</td>\n",
       "      <td>6.0</td>\n",
       "      <td>4.0</td>\n",
       "      <td>4.0</td>\n",
       "      <td>57366</td>\n",
       "      <td>28.0</td>\n",
       "      <td>Квиз, плиз!</td>\n",
       "      <td>#831</td>\n",
       "      <td>Резиденция</td>\n",
       "      <td>NaN</td>\n",
       "    </tr>\n",
       "    <tr>\n",
       "      <th>15 июня, Четверг</th>\n",
       "      <td>13.0</td>\n",
       "      <td>Москва-Петушок Большая Кокоша</td>\n",
       "      <td>NaN</td>\n",
       "      <td>5</td>\n",
       "      <td>3.0</td>\n",
       "      <td>5.0</td>\n",
       "      <td>9.0</td>\n",
       "      <td>4.0</td>\n",
       "      <td>0.0</td>\n",
       "      <td>12.0</td>\n",
       "      <td>58490</td>\n",
       "      <td>38.0</td>\n",
       "      <td>Квиз, плиз!</td>\n",
       "      <td>#840</td>\n",
       "      <td>Chesterfield Bar</td>\n",
       "      <td>NaN</td>\n",
       "    </tr>\n",
       "    <tr>\n",
       "      <th>6 июля, Четверг</th>\n",
       "      <td>30.0</td>\n",
       "      <td>Москва-Петушок Большая Кокоша</td>\n",
       "      <td>NaN</td>\n",
       "      <td>6.0</td>\n",
       "      <td>3.0</td>\n",
       "      <td>4.0</td>\n",
       "      <td>5.0</td>\n",
       "      <td>3.0</td>\n",
       "      <td>2.0</td>\n",
       "      <td>9.0</td>\n",
       "      <td>59660</td>\n",
       "      <td>32.0</td>\n",
       "      <td>Квиз, плиз!</td>\n",
       "      <td>#849</td>\n",
       "      <td>Chesterfield Bar</td>\n",
       "      <td>NaN</td>\n",
       "    </tr>\n",
       "    <tr>\n",
       "      <th>18 июля, Вторник</th>\n",
       "      <td>2.0</td>\n",
       "      <td>Москва-Петушок Большая Кокоша</td>\n",
       "      <td>NaN</td>\n",
       "      <td>3.0</td>\n",
       "      <td>5.0</td>\n",
       "      <td>6.0</td>\n",
       "      <td>10.0</td>\n",
       "      <td>2.0</td>\n",
       "      <td>4.0</td>\n",
       "      <td>13.0</td>\n",
       "      <td>60284</td>\n",
       "      <td>43.0</td>\n",
       "      <td>Квиз, плиз!</td>\n",
       "      <td>#854</td>\n",
       "      <td>Резиденция</td>\n",
       "      <td>NaN</td>\n",
       "    </tr>\n",
       "    <tr>\n",
       "      <th>27 июля, Четверг</th>\n",
       "      <td>11.0</td>\n",
       "      <td>Москва-Петушок Большая Кокоша</td>\n",
       "      <td>NaN</td>\n",
       "      <td>4.0</td>\n",
       "      <td>5.0</td>\n",
       "      <td>5.0</td>\n",
       "      <td>4.0</td>\n",
       "      <td>4.5</td>\n",
       "      <td>2.0</td>\n",
       "      <td>11.0</td>\n",
       "      <td>60685</td>\n",
       "      <td>35.5</td>\n",
       "      <td>[кино и музыка]</td>\n",
       "      <td>#137</td>\n",
       "      <td>MT Music Bar</td>\n",
       "      <td>NaN</td>\n",
       "    </tr>\n",
       "    <tr>\n",
       "      <th>3 августа, Четверг</th>\n",
       "      <td>31.0</td>\n",
       "      <td>Москва-Петушок Большая Кокоша</td>\n",
       "      <td>NaN</td>\n",
       "      <td>6.0</td>\n",
       "      <td>4.0</td>\n",
       "      <td>3.0</td>\n",
       "      <td>1.0</td>\n",
       "      <td>3.0</td>\n",
       "      <td>4.0</td>\n",
       "      <td>11.0</td>\n",
       "      <td>61072</td>\n",
       "      <td>32.0</td>\n",
       "      <td>Квиз, плиз!</td>\n",
       "      <td>#861</td>\n",
       "      <td>Chesterfield Bar</td>\n",
       "      <td>NaN</td>\n",
       "    </tr>\n",
       "    <tr>\n",
       "      <th>9 августа, Среда</th>\n",
       "      <td>35.0</td>\n",
       "      <td>Москва-Петушок Большая Кокоша</td>\n",
       "      <td>30.0</td>\n",
       "      <td>5.0</td>\n",
       "      <td>5.0</td>\n",
       "      <td>4.0</td>\n",
       "      <td>5.0</td>\n",
       "      <td>4.0</td>\n",
       "      <td>0.0</td>\n",
       "      <td>7.0</td>\n",
       "      <td>61481</td>\n",
       "      <td>NaN</td>\n",
       "      <td>Квиз, плиз!</td>\n",
       "      <td>#863</td>\n",
       "      <td>Chesterfield Bar</td>\n",
       "      <td>NaN</td>\n",
       "    </tr>\n",
       "    <tr>\n",
       "      <th>15 августа, Вторник</th>\n",
       "      <td>24.0</td>\n",
       "      <td>Москва-Петушок Большая Кокоша</td>\n",
       "      <td>NaN</td>\n",
       "      <td>5.0</td>\n",
       "      <td>4.0</td>\n",
       "      <td>4.0</td>\n",
       "      <td>8.0</td>\n",
       "      <td>3.0</td>\n",
       "      <td>2.0</td>\n",
       "      <td>10.0</td>\n",
       "      <td>61675</td>\n",
       "      <td>36.0</td>\n",
       "      <td>Квиз, плиз!</td>\n",
       "      <td>#866</td>\n",
       "      <td>Chesterfield Bar</td>\n",
       "      <td>NaN</td>\n",
       "    </tr>\n",
       "    <tr>\n",
       "      <th>29 августа, Вторник</th>\n",
       "      <td>16.0</td>\n",
       "      <td>Москва-Петушок Большая Кокоша</td>\n",
       "      <td>41.0</td>\n",
       "      <td>3.0</td>\n",
       "      <td>5.0</td>\n",
       "      <td>5.0</td>\n",
       "      <td>10.0</td>\n",
       "      <td>5.0</td>\n",
       "      <td>0.0</td>\n",
       "      <td>13.0</td>\n",
       "      <td>62528</td>\n",
       "      <td>NaN</td>\n",
       "      <td>Квиз, плиз!</td>\n",
       "      <td>#872</td>\n",
       "      <td>Chesterfield Bar</td>\n",
       "      <td>NaN</td>\n",
       "    </tr>\n",
       "    <tr>\n",
       "      <th>8 сентября, Пятница</th>\n",
       "      <td>17.0</td>\n",
       "      <td>Москва-Петушок Большая Кокоша</td>\n",
       "      <td>30.0</td>\n",
       "      <td>4.0</td>\n",
       "      <td>2.0</td>\n",
       "      <td>5.0</td>\n",
       "      <td>2.0</td>\n",
       "      <td>3.0</td>\n",
       "      <td>2.0</td>\n",
       "      <td>12.0</td>\n",
       "      <td>62855</td>\n",
       "      <td>NaN</td>\n",
       "      <td>Квиз, плиз!</td>\n",
       "      <td>#877</td>\n",
       "      <td>Chesterfield Bar</td>\n",
       "      <td>NaN</td>\n",
       "    </tr>\n",
       "    <tr>\n",
       "      <th>14 сентября, Четверг</th>\n",
       "      <td>15.0</td>\n",
       "      <td>Москва-Петушок Большая Кокоша</td>\n",
       "      <td>38.0</td>\n",
       "      <td>4.0</td>\n",
       "      <td>5.0</td>\n",
       "      <td>3.0</td>\n",
       "      <td>8.0</td>\n",
       "      <td>5.0</td>\n",
       "      <td>2.0</td>\n",
       "      <td>11.0</td>\n",
       "      <td>63302</td>\n",
       "      <td>NaN</td>\n",
       "      <td>Квиз, плиз!</td>\n",
       "      <td>#879</td>\n",
       "      <td>Chesterfield Bar</td>\n",
       "      <td>NaN</td>\n",
       "    </tr>\n",
       "    <tr>\n",
       "      <th>18 сентября, Понедельник</th>\n",
       "      <td>9.0</td>\n",
       "      <td>Москва-Петушок Большая Кокоша</td>\n",
       "      <td>45.0</td>\n",
       "      <td>5.0</td>\n",
       "      <td>2.0</td>\n",
       "      <td>6.0</td>\n",
       "      <td>10.0</td>\n",
       "      <td>3.0</td>\n",
       "      <td>4.0</td>\n",
       "      <td>15.0</td>\n",
       "      <td>63587</td>\n",
       "      <td>NaN</td>\n",
       "      <td>Квиз, плиз!</td>\n",
       "      <td>#881</td>\n",
       "      <td>Резиденция</td>\n",
       "      <td>NaN</td>\n",
       "    </tr>\n",
       "    <tr>\n",
       "      <th>25 сентября, Понедельник</th>\n",
       "      <td>13.0</td>\n",
       "      <td>Москва-Петушок Большая Кокоша</td>\n",
       "      <td>29.0</td>\n",
       "      <td>5.0</td>\n",
       "      <td>5.0</td>\n",
       "      <td>4.0</td>\n",
       "      <td>9.0</td>\n",
       "      <td>1.0</td>\n",
       "      <td>0.0</td>\n",
       "      <td>5.0</td>\n",
       "      <td>63989</td>\n",
       "      <td>NaN</td>\n",
       "      <td>Квиз, плиз!</td>\n",
       "      <td>#884</td>\n",
       "      <td>Резиденция</td>\n",
       "      <td>NaN</td>\n",
       "    </tr>\n",
       "    <tr>\n",
       "      <th>7 октября, Суббота</th>\n",
       "      <td>6.0</td>\n",
       "      <td>Москва-Петушок Большая Кокоша</td>\n",
       "      <td>33.0</td>\n",
       "      <td>5.0</td>\n",
       "      <td>1.0</td>\n",
       "      <td>4.0</td>\n",
       "      <td>4.0</td>\n",
       "      <td>3.0</td>\n",
       "      <td>2.0</td>\n",
       "      <td>14.0</td>\n",
       "      <td>64411</td>\n",
       "      <td>NaN</td>\n",
       "      <td>Квиз, плиз!</td>\n",
       "      <td>#889</td>\n",
       "      <td>Дорогая, я перезвоню</td>\n",
       "      <td>NaN</td>\n",
       "    </tr>\n",
       "    <tr>\n",
       "      <th>11 октября, Среда</th>\n",
       "      <td>26.0</td>\n",
       "      <td>Москва-Петушок Большая Кокоша</td>\n",
       "      <td>38.0</td>\n",
       "      <td>4.0</td>\n",
       "      <td>4.0</td>\n",
       "      <td>4.0</td>\n",
       "      <td>10.0</td>\n",
       "      <td>1.0</td>\n",
       "      <td>2.0</td>\n",
       "      <td>13.0</td>\n",
       "      <td>64838</td>\n",
       "      <td>NaN</td>\n",
       "      <td>Квиз, плиз!</td>\n",
       "      <td>#890</td>\n",
       "      <td>Chesterfield Bar</td>\n",
       "      <td>NaN</td>\n",
       "    </tr>\n",
       "    <tr>\n",
       "      <th>16 октября, Понедельник</th>\n",
       "      <td>22.0</td>\n",
       "      <td>Москва-Петушок Большая Кокоша</td>\n",
       "      <td>38.0</td>\n",
       "      <td>5.0</td>\n",
       "      <td>2.0</td>\n",
       "      <td>5.0</td>\n",
       "      <td>10.0</td>\n",
       "      <td>5.0</td>\n",
       "      <td>0.0</td>\n",
       "      <td>11.0</td>\n",
       "      <td>65211</td>\n",
       "      <td>NaN</td>\n",
       "      <td>Квиз, плиз!</td>\n",
       "      <td>#893</td>\n",
       "      <td>Резиденция</td>\n",
       "      <td>NaN</td>\n",
       "    </tr>\n",
       "    <tr>\n",
       "      <th>23 октября, Понедельник</th>\n",
       "      <td>62.0</td>\n",
       "      <td>Москва-Петушок Большая Кокоша</td>\n",
       "      <td>40.5</td>\n",
       "      <td>7.0</td>\n",
       "      <td>8.5</td>\n",
       "      <td>2.0</td>\n",
       "      <td>5.0</td>\n",
       "      <td>2.0</td>\n",
       "      <td>3.0</td>\n",
       "      <td>13.0</td>\n",
       "      <td>65368</td>\n",
       "      <td>NaN</td>\n",
       "      <td>[300к1] 18+</td>\n",
       "      <td>#3</td>\n",
       "      <td>Chesterfield Bar</td>\n",
       "      <td>NaN</td>\n",
       "    </tr>\n",
       "    <tr>\n",
       "      <th>28 октября, Суббота</th>\n",
       "      <td>10.0</td>\n",
       "      <td>Москва-Петушок Большая Кокоша</td>\n",
       "      <td>29.5</td>\n",
       "      <td>3.0</td>\n",
       "      <td>4.0</td>\n",
       "      <td>1.0</td>\n",
       "      <td>1.5</td>\n",
       "      <td>2.0</td>\n",
       "      <td>4.0</td>\n",
       "      <td>14.0</td>\n",
       "      <td>65663</td>\n",
       "      <td>NaN</td>\n",
       "      <td>[Октоберфест]</td>\n",
       "      <td>#1</td>\n",
       "      <td>Bla Bla Bar</td>\n",
       "      <td>NaN</td>\n",
       "    </tr>\n",
       "    <tr>\n",
       "      <th>3 ноября, Пятница</th>\n",
       "      <td>14.0</td>\n",
       "      <td>Москва-Петушок Большая Кокоша</td>\n",
       "      <td>40.0</td>\n",
       "      <td>4.0</td>\n",
       "      <td>6.0</td>\n",
       "      <td>4.0</td>\n",
       "      <td>4.0</td>\n",
       "      <td>4.0</td>\n",
       "      <td>6.0</td>\n",
       "      <td>12.0</td>\n",
       "      <td>65991</td>\n",
       "      <td>NaN</td>\n",
       "      <td>Квиз, плиз!</td>\n",
       "      <td>#901</td>\n",
       "      <td>Chesterfield Bar</td>\n",
       "      <td>NaN</td>\n",
       "    </tr>\n",
       "    <tr>\n",
       "      <th>6 ноября, Понедельник</th>\n",
       "      <td>16.0</td>\n",
       "      <td>Москва-Петушок Большая Кокоша</td>\n",
       "      <td>44.0</td>\n",
       "      <td>3.0</td>\n",
       "      <td>5.0</td>\n",
       "      <td>5.0</td>\n",
       "      <td>8.0</td>\n",
       "      <td>3.0</td>\n",
       "      <td>2.0</td>\n",
       "      <td>18.0</td>\n",
       "      <td>66481</td>\n",
       "      <td>NaN</td>\n",
       "      <td>Квиз, плиз!</td>\n",
       "      <td>#902</td>\n",
       "      <td>Chesterfield Bar</td>\n",
       "      <td>NaN</td>\n",
       "    </tr>\n",
       "  </tbody>\n",
       "</table>\n",
       "</div>"
      ],
      "text/plain": [
       "                          Место               Название команды  Итого 1 раунд  \\\n",
       "date                                                                            \n",
       "5 марта, Воскресенье       45.0  Москва-Петушок Большая Кокоша    NaN     4.0   \n",
       "26 мая, Пятница            12.0  Москва-Петушок Большая Кокоша    NaN     3.0   \n",
       "15 июня, Четверг           13.0  Москва-Петушок Большая Кокоша    NaN       5   \n",
       "6 июля, Четверг            30.0  Москва-Петушок Большая Кокоша    NaN     6.0   \n",
       "18 июля, Вторник            2.0  Москва-Петушок Большая Кокоша    NaN     3.0   \n",
       "27 июля, Четверг           11.0  Москва-Петушок Большая Кокоша    NaN     4.0   \n",
       "3 августа, Четверг         31.0  Москва-Петушок Большая Кокоша    NaN     6.0   \n",
       "9 августа, Среда           35.0  Москва-Петушок Большая Кокоша   30.0     5.0   \n",
       "15 августа, Вторник        24.0  Москва-Петушок Большая Кокоша    NaN     5.0   \n",
       "29 августа, Вторник        16.0  Москва-Петушок Большая Кокоша   41.0     3.0   \n",
       "8 сентября, Пятница        17.0  Москва-Петушок Большая Кокоша   30.0     4.0   \n",
       "14 сентября, Четверг       15.0  Москва-Петушок Большая Кокоша   38.0     4.0   \n",
       "18 сентября, Понедельник    9.0  Москва-Петушок Большая Кокоша   45.0     5.0   \n",
       "25 сентября, Понедельник   13.0  Москва-Петушок Большая Кокоша   29.0     5.0   \n",
       "7 октября, Суббота          6.0  Москва-Петушок Большая Кокоша   33.0     5.0   \n",
       "11 октября, Среда          26.0  Москва-Петушок Большая Кокоша   38.0     4.0   \n",
       "16 октября, Понедельник    22.0  Москва-Петушок Большая Кокоша   38.0     5.0   \n",
       "23 октября, Понедельник    62.0  Москва-Петушок Большая Кокоша   40.5     7.0   \n",
       "28 октября, Суббота        10.0  Москва-Петушок Большая Кокоша   29.5     3.0   \n",
       "3 ноября, Пятница          14.0  Москва-Петушок Большая Кокоша   40.0     4.0   \n",
       "6 ноября, Понедельник      16.0  Москва-Петушок Большая Кокоша   44.0     3.0   \n",
       "\n",
       "                          2 раунд  3 раунд  4 раунд 5 раунд  6 раунд  7 раунд  \\\n",
       "date                                                                            \n",
       "5 марта, Воскресенье          5.0      1.0      8.0       2      0.0      2.0   \n",
       "26 мая, Пятница               4.0      4.0      3.0     6.0      4.0      4.0   \n",
       "15 июня, Четверг              3.0      5.0      9.0     4.0      0.0     12.0   \n",
       "6 июля, Четверг               3.0      4.0      5.0     3.0      2.0      9.0   \n",
       "18 июля, Вторник              5.0      6.0     10.0     2.0      4.0     13.0   \n",
       "27 июля, Четверг              5.0      5.0      4.0     4.5      2.0     11.0   \n",
       "3 августа, Четверг            4.0      3.0      1.0     3.0      4.0     11.0   \n",
       "9 августа, Среда              5.0      4.0      5.0     4.0      0.0      7.0   \n",
       "15 августа, Вторник           4.0      4.0      8.0     3.0      2.0     10.0   \n",
       "29 августа, Вторник           5.0      5.0     10.0     5.0      0.0     13.0   \n",
       "8 сентября, Пятница           2.0      5.0      2.0     3.0      2.0     12.0   \n",
       "14 сентября, Четверг          5.0      3.0      8.0     5.0      2.0     11.0   \n",
       "18 сентября, Понедельник      2.0      6.0     10.0     3.0      4.0     15.0   \n",
       "25 сентября, Понедельник      5.0      4.0      9.0     1.0      0.0      5.0   \n",
       "7 октября, Суббота            1.0      4.0      4.0     3.0      2.0     14.0   \n",
       "11 октября, Среда             4.0      4.0     10.0     1.0      2.0     13.0   \n",
       "16 октября, Понедельник       2.0      5.0     10.0     5.0      0.0     11.0   \n",
       "23 октября, Понедельник       8.5      2.0      5.0     2.0      3.0     13.0   \n",
       "28 октября, Суббота           4.0      1.0      1.5     2.0      4.0     14.0   \n",
       "3 ноября, Пятница             6.0      4.0      4.0     4.0      6.0     12.0   \n",
       "6 ноября, Понедельник         5.0      5.0      8.0     3.0      2.0     18.0   \n",
       "\n",
       "                          game_id  итого              name number  \\\n",
       "date                                                                \n",
       "5 марта, Воскресенье        52762   22.0      Квиз, плиз!    #796   \n",
       "26 мая, Пятница             57366   28.0      Квиз, плиз!    #831   \n",
       "15 июня, Четверг            58490   38.0      Квиз, плиз!    #840   \n",
       "6 июля, Четверг             59660   32.0      Квиз, плиз!    #849   \n",
       "18 июля, Вторник            60284   43.0      Квиз, плиз!    #854   \n",
       "27 июля, Четверг            60685   35.5  [кино и музыка]    #137   \n",
       "3 августа, Четверг          61072   32.0      Квиз, плиз!    #861   \n",
       "9 августа, Среда            61481    NaN      Квиз, плиз!    #863   \n",
       "15 августа, Вторник         61675   36.0      Квиз, плиз!    #866   \n",
       "29 августа, Вторник         62528    NaN      Квиз, плиз!    #872   \n",
       "8 сентября, Пятница         62855    NaN      Квиз, плиз!    #877   \n",
       "14 сентября, Четверг        63302    NaN      Квиз, плиз!    #879   \n",
       "18 сентября, Понедельник    63587    NaN      Квиз, плиз!    #881   \n",
       "25 сентября, Понедельник    63989    NaN      Квиз, плиз!    #884   \n",
       "7 октября, Суббота          64411    NaN      Квиз, плиз!    #889   \n",
       "11 октября, Среда           64838    NaN      Квиз, плиз!    #890   \n",
       "16 октября, Понедельник     65211    NaN      Квиз, плиз!    #893   \n",
       "23 октября, Понедельник     65368    NaN      [300к1] 18+      #3   \n",
       "28 октября, Суббота         65663    NaN    [Октоберфест]      #1   \n",
       "3 ноября, Пятница           65991    NaN      Квиз, плиз!    #901   \n",
       "6 ноября, Понедельник       66481    NaN      Квиз, плиз!    #902   \n",
       "\n",
       "                                         place parsed  \n",
       "date                                                   \n",
       "5 марта, Воскресенье          Chesterfield Bar   True  \n",
       "26 мая, Пятница                     Резиденция    NaN  \n",
       "15 июня, Четверг              Chesterfield Bar    NaN  \n",
       "6 июля, Четверг               Chesterfield Bar    NaN  \n",
       "18 июля, Вторник                    Резиденция    NaN  \n",
       "27 июля, Четверг                  MT Music Bar    NaN  \n",
       "3 августа, Четверг            Chesterfield Bar    NaN  \n",
       "9 августа, Среда              Chesterfield Bar    NaN  \n",
       "15 августа, Вторник           Chesterfield Bar    NaN  \n",
       "29 августа, Вторник           Chesterfield Bar    NaN  \n",
       "8 сентября, Пятница           Chesterfield Bar    NaN  \n",
       "14 сентября, Четверг          Chesterfield Bar    NaN  \n",
       "18 сентября, Понедельник            Резиденция    NaN  \n",
       "25 сентября, Понедельник            Резиденция    NaN  \n",
       "7 октября, Суббота        Дорогая, я перезвоню    NaN  \n",
       "11 октября, Среда             Chesterfield Bar    NaN  \n",
       "16 октября, Понедельник             Резиденция    NaN  \n",
       "23 октября, Понедельник       Chesterfield Bar    NaN  \n",
       "28 октября, Суббота                Bla Bla Bar    NaN  \n",
       "3 ноября, Пятница             Chesterfield Bar    NaN  \n",
       "6 ноября, Понедельник         Chesterfield Bar    NaN  "
      ]
     },
     "execution_count": 21,
     "metadata": {},
     "output_type": "execute_result"
    }
   ],
   "source": [
    "our_df.merge(df, on='game_id').sort_values('game_id').set_index('date')"
   ]
  },
  {
   "cell_type": "code",
   "execution_count": null,
   "metadata": {},
   "outputs": [],
   "source": []
  }
 ],
 "metadata": {
  "kernelspec": {
   "display_name": "Python 3",
   "language": "python",
   "name": "python3"
  },
  "language_info": {
   "codemirror_mode": {
    "name": "ipython",
    "version": 3
   },
   "file_extension": ".py",
   "mimetype": "text/x-python",
   "name": "python",
   "nbconvert_exporter": "python",
   "pygments_lexer": "ipython3",
   "version": "3.7.5"
  },
  "toc": {
   "base_numbering": 1,
   "nav_menu": {},
   "number_sections": true,
   "sideBar": true,
   "skip_h1_title": false,
   "title_cell": "Table of Contents",
   "title_sidebar": "Contents",
   "toc_cell": false,
   "toc_position": {},
   "toc_section_display": true,
   "toc_window_display": false
  }
 },
 "nbformat": 4,
 "nbformat_minor": 4
}
